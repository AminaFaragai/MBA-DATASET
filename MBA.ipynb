{
 "cells": [
  {
   "cell_type": "code",
   "execution_count": 144,
   "id": "08c515e4",
   "metadata": {},
   "outputs": [],
   "source": [
    "import matplotlib.pyplot as plt; plt.rcdefaults()\n",
    "import matplotlib.pyplot as plt\n",
    "import pandas as pd\n",
    "import numpy as np\n",
    "import warnings\n",
    "warnings.filterwarnings('ignore')"
   ]
  },
  {
   "cell_type": "code",
   "execution_count": 145,
   "id": "61d1ea83",
   "metadata": {},
   "outputs": [],
   "source": [
    "df = pd.read_csv('Workshop-5-dataset.zip', sep='\\t',dtype=np.str)"
   ]
  },
  {
   "cell_type": "markdown",
   "id": "c11d05f2",
   "metadata": {},
   "source": [
    "###Printing the first five rows of the dataset."
   ]
  },
  {
   "cell_type": "code",
   "execution_count": 146,
   "id": "e66a862b",
   "metadata": {},
   "outputs": [
    {
     "data": {
      "text/html": [
       "<div>\n",
       "<style scoped>\n",
       "    .dataframe tbody tr th:only-of-type {\n",
       "        vertical-align: middle;\n",
       "    }\n",
       "\n",
       "    .dataframe tbody tr th {\n",
       "        vertical-align: top;\n",
       "    }\n",
       "\n",
       "    .dataframe thead th {\n",
       "        text-align: right;\n",
       "    }\n",
       "</style>\n",
       "<table border=\"1\" class=\"dataframe\">\n",
       "  <thead>\n",
       "    <tr style=\"text-align: right;\">\n",
       "      <th></th>\n",
       "      <th>transaction_ID</th>\n",
       "      <th>Date</th>\n",
       "      <th>Time</th>\n",
       "      <th>item_0</th>\n",
       "      <th>item_1</th>\n",
       "      <th>item_2</th>\n",
       "      <th>item_3</th>\n",
       "      <th>item_4</th>\n",
       "      <th>item_5</th>\n",
       "      <th>item_6</th>\n",
       "      <th>...</th>\n",
       "      <th>item_31</th>\n",
       "      <th>item_32</th>\n",
       "      <th>item_33</th>\n",
       "      <th>item_34</th>\n",
       "      <th>item_35</th>\n",
       "      <th>item_36</th>\n",
       "      <th>item_37</th>\n",
       "      <th>item_38</th>\n",
       "      <th>item_39</th>\n",
       "      <th>item_40</th>\n",
       "    </tr>\n",
       "  </thead>\n",
       "  <tbody>\n",
       "    <tr>\n",
       "      <th>0</th>\n",
       "      <td>536365</td>\n",
       "      <td>01/12/2010</td>\n",
       "      <td>08:26</td>\n",
       "      <td>WHITE HANGING HEART T-LIGHT HOLDER</td>\n",
       "      <td>WHITE METAL LANTERN</td>\n",
       "      <td>CREAM CUPID HEARTS COAT HANGER</td>\n",
       "      <td>KNITTED UNION FLAG HOT WATER BOTTLE</td>\n",
       "      <td>RED WOOLLY HOTTIE WHITE HEART</td>\n",
       "      <td>SET 7 BABUSHKA NESTING BOXES</td>\n",
       "      <td>GLASS STAR FROSTED T-LIGHT HOLDER</td>\n",
       "      <td>...</td>\n",
       "      <td>NaN</td>\n",
       "      <td>NaN</td>\n",
       "      <td>NaN</td>\n",
       "      <td>NaN</td>\n",
       "      <td>NaN</td>\n",
       "      <td>NaN</td>\n",
       "      <td>NaN</td>\n",
       "      <td>NaN</td>\n",
       "      <td>NaN</td>\n",
       "      <td>NaN</td>\n",
       "    </tr>\n",
       "    <tr>\n",
       "      <th>1</th>\n",
       "      <td>536366</td>\n",
       "      <td>01/12/2010</td>\n",
       "      <td>08:28</td>\n",
       "      <td>HAND WARMER UNION JACK</td>\n",
       "      <td>HAND WARMER RED POLKA DOT</td>\n",
       "      <td>NaN</td>\n",
       "      <td>NaN</td>\n",
       "      <td>NaN</td>\n",
       "      <td>NaN</td>\n",
       "      <td>NaN</td>\n",
       "      <td>...</td>\n",
       "      <td>NaN</td>\n",
       "      <td>NaN</td>\n",
       "      <td>NaN</td>\n",
       "      <td>NaN</td>\n",
       "      <td>NaN</td>\n",
       "      <td>NaN</td>\n",
       "      <td>NaN</td>\n",
       "      <td>NaN</td>\n",
       "      <td>NaN</td>\n",
       "      <td>NaN</td>\n",
       "    </tr>\n",
       "    <tr>\n",
       "      <th>2</th>\n",
       "      <td>536367</td>\n",
       "      <td>01/12/2010</td>\n",
       "      <td>08:34</td>\n",
       "      <td>ASSORTED COLOUR BIRD ORNAMENT</td>\n",
       "      <td>POPPY'S PLAYHOUSE BEDROOM</td>\n",
       "      <td>POPPY'S PLAYHOUSE KITCHEN</td>\n",
       "      <td>FELTCRAFT PRINCESS CHARLOTTE DOLL</td>\n",
       "      <td>IVORY KNITTED MUG COSY</td>\n",
       "      <td>BOX OF 6 ASSORTED COLOUR TEASPOONS</td>\n",
       "      <td>BOX OF VINTAGE JIGSAW BLOCKS</td>\n",
       "      <td>...</td>\n",
       "      <td>NaN</td>\n",
       "      <td>NaN</td>\n",
       "      <td>NaN</td>\n",
       "      <td>NaN</td>\n",
       "      <td>NaN</td>\n",
       "      <td>NaN</td>\n",
       "      <td>NaN</td>\n",
       "      <td>NaN</td>\n",
       "      <td>NaN</td>\n",
       "      <td>NaN</td>\n",
       "    </tr>\n",
       "    <tr>\n",
       "      <th>3</th>\n",
       "      <td>536368</td>\n",
       "      <td>01/12/2010</td>\n",
       "      <td>08:34</td>\n",
       "      <td>JAM MAKING SET WITH JARS</td>\n",
       "      <td>RED COAT RACK PARIS FASHION</td>\n",
       "      <td>YELLOW COAT RACK PARIS FASHION</td>\n",
       "      <td>BLUE COAT RACK PARIS FASHION</td>\n",
       "      <td>NaN</td>\n",
       "      <td>NaN</td>\n",
       "      <td>NaN</td>\n",
       "      <td>...</td>\n",
       "      <td>NaN</td>\n",
       "      <td>NaN</td>\n",
       "      <td>NaN</td>\n",
       "      <td>NaN</td>\n",
       "      <td>NaN</td>\n",
       "      <td>NaN</td>\n",
       "      <td>NaN</td>\n",
       "      <td>NaN</td>\n",
       "      <td>NaN</td>\n",
       "      <td>NaN</td>\n",
       "    </tr>\n",
       "    <tr>\n",
       "      <th>4</th>\n",
       "      <td>536369</td>\n",
       "      <td>01/12/2010</td>\n",
       "      <td>08:35</td>\n",
       "      <td>BATH BUILDING BLOCK WORD</td>\n",
       "      <td>NaN</td>\n",
       "      <td>NaN</td>\n",
       "      <td>NaN</td>\n",
       "      <td>NaN</td>\n",
       "      <td>NaN</td>\n",
       "      <td>NaN</td>\n",
       "      <td>...</td>\n",
       "      <td>NaN</td>\n",
       "      <td>NaN</td>\n",
       "      <td>NaN</td>\n",
       "      <td>NaN</td>\n",
       "      <td>NaN</td>\n",
       "      <td>NaN</td>\n",
       "      <td>NaN</td>\n",
       "      <td>NaN</td>\n",
       "      <td>NaN</td>\n",
       "      <td>NaN</td>\n",
       "    </tr>\n",
       "  </tbody>\n",
       "</table>\n",
       "<p>5 rows × 44 columns</p>\n",
       "</div>"
      ],
      "text/plain": [
       "  transaction_ID        Date   Time                              item_0  \\\n",
       "0         536365  01/12/2010  08:26  WHITE HANGING HEART T-LIGHT HOLDER   \n",
       "1         536366  01/12/2010  08:28              HAND WARMER UNION JACK   \n",
       "2         536367  01/12/2010  08:34       ASSORTED COLOUR BIRD ORNAMENT   \n",
       "3         536368  01/12/2010  08:34            JAM MAKING SET WITH JARS   \n",
       "4         536369  01/12/2010  08:35            BATH BUILDING BLOCK WORD   \n",
       "\n",
       "                        item_1                          item_2  \\\n",
       "0          WHITE METAL LANTERN  CREAM CUPID HEARTS COAT HANGER   \n",
       "1    HAND WARMER RED POLKA DOT                             NaN   \n",
       "2    POPPY'S PLAYHOUSE BEDROOM       POPPY'S PLAYHOUSE KITCHEN   \n",
       "3  RED COAT RACK PARIS FASHION  YELLOW COAT RACK PARIS FASHION   \n",
       "4                          NaN                             NaN   \n",
       "\n",
       "                                item_3                         item_4  \\\n",
       "0  KNITTED UNION FLAG HOT WATER BOTTLE  RED WOOLLY HOTTIE WHITE HEART   \n",
       "1                                  NaN                            NaN   \n",
       "2    FELTCRAFT PRINCESS CHARLOTTE DOLL         IVORY KNITTED MUG COSY   \n",
       "3         BLUE COAT RACK PARIS FASHION                            NaN   \n",
       "4                                  NaN                            NaN   \n",
       "\n",
       "                               item_5                             item_6  ...  \\\n",
       "0        SET 7 BABUSHKA NESTING BOXES  GLASS STAR FROSTED T-LIGHT HOLDER  ...   \n",
       "1                                 NaN                                NaN  ...   \n",
       "2  BOX OF 6 ASSORTED COLOUR TEASPOONS       BOX OF VINTAGE JIGSAW BLOCKS  ...   \n",
       "3                                 NaN                                NaN  ...   \n",
       "4                                 NaN                                NaN  ...   \n",
       "\n",
       "  item_31 item_32 item_33 item_34 item_35 item_36 item_37 item_38 item_39  \\\n",
       "0     NaN     NaN     NaN     NaN     NaN     NaN     NaN     NaN     NaN   \n",
       "1     NaN     NaN     NaN     NaN     NaN     NaN     NaN     NaN     NaN   \n",
       "2     NaN     NaN     NaN     NaN     NaN     NaN     NaN     NaN     NaN   \n",
       "3     NaN     NaN     NaN     NaN     NaN     NaN     NaN     NaN     NaN   \n",
       "4     NaN     NaN     NaN     NaN     NaN     NaN     NaN     NaN     NaN   \n",
       "\n",
       "  item_40  \n",
       "0     NaN  \n",
       "1     NaN  \n",
       "2     NaN  \n",
       "3     NaN  \n",
       "4     NaN  \n",
       "\n",
       "[5 rows x 44 columns]"
      ]
     },
     "execution_count": 146,
     "metadata": {},
     "output_type": "execute_result"
    }
   ],
   "source": [
    "df.head()"
   ]
  },
  {
   "cell_type": "markdown",
   "id": "61f0f251",
   "metadata": {},
   "source": [
    "### Q2. How many rows and columns are there in the dataset?"
   ]
  },
  {
   "cell_type": "code",
   "execution_count": 147,
   "id": "68a74b46",
   "metadata": {},
   "outputs": [
    {
     "data": {
      "text/plain": [
       "(31941, 44)"
      ]
     },
     "execution_count": 147,
     "metadata": {},
     "output_type": "execute_result"
    }
   ],
   "source": [
    "df.shape"
   ]
  },
  {
   "cell_type": "markdown",
   "id": "f0286de7",
   "metadata": {},
   "source": [
    "We have 31941 rows and 44 columns"
   ]
  },
  {
   "cell_type": "code",
   "execution_count": 148,
   "id": "48daf13c",
   "metadata": {},
   "outputs": [],
   "source": [
    "STUDENT_NAME = 'AminaUmarFaragai'\n",
    "STUDENT_NO = '5230'"
   ]
  },
  {
   "cell_type": "code",
   "execution_count": 149,
   "id": "581711a8",
   "metadata": {},
   "outputs": [],
   "source": [
    "np.random.seed(int(STUDENT_NO))\n",
    "unique_id = int('2' + STUDENT_NO)\n",
    "rows = np.random.choice(df.index.values, unique_id)\n",
    "data = df.loc[rows]"
   ]
  },
  {
   "cell_type": "code",
   "execution_count": 150,
   "id": "2fd2f38c",
   "metadata": {},
   "outputs": [],
   "source": [
    "file_name = STUDENT_NAME + \"_\" + STUDENT_NO + \".csv\"\n",
    "data.to_csv(file_name) "
   ]
  },
  {
   "cell_type": "markdown",
   "id": "762f1ce3",
   "metadata": {},
   "source": [
    "### Q3. How many unique dates are there in the dataset? HINT: You can use the .nunique() function available in Pandas."
   ]
  },
  {
   "cell_type": "code",
   "execution_count": 151,
   "id": "b91ef563",
   "metadata": {},
   "outputs": [
    {
     "data": {
      "text/plain": [
       "305"
      ]
     },
     "execution_count": 151,
     "metadata": {},
     "output_type": "execute_result"
    }
   ],
   "source": [
    "#the unique dates in the dataset\n",
    "len(data['Date'].unique())"
   ]
  },
  {
   "cell_type": "markdown",
   "id": "64e0e69c",
   "metadata": {},
   "source": [
    "We have 305 unique dates."
   ]
  },
  {
   "cell_type": "code",
   "execution_count": 152,
   "id": "8d6da265",
   "metadata": {},
   "outputs": [
    {
     "data": {
      "text/plain": [
       "array(['14/07/2011', '21/04/2011', '09/12/2010', '31/10/2011',\n",
       "       '16/11/2011', '27/11/2011', '14/12/2010', '13/04/2011',\n",
       "       '25/10/2011', '05/04/2011', '27/01/2011', '08/12/2011',\n",
       "       '21/11/2011', '05/12/2011', '28/07/2011', '03/12/2010',\n",
       "       '09/06/2011', '20/11/2011', '23/06/2011', '25/09/2011',\n",
       "       '07/03/2011', '04/05/2011', '24/10/2011', '31/01/2011',\n",
       "       '11/11/2011', '01/06/2011', '29/11/2011', '28/09/2011',\n",
       "       '26/04/2011', '02/12/2010', '10/01/2011', '21/10/2011',\n",
       "       '27/04/2011', '23/09/2011', '25/11/2011', '07/10/2011',\n",
       "       '22/09/2011', '08/12/2010', '16/03/2011', '25/05/2011',\n",
       "       '12/10/2011', '14/11/2011', '04/11/2011', '09/05/2011',\n",
       "       '10/06/2011', '15/03/2011', '20/06/2011', '06/10/2011',\n",
       "       '02/12/2011', '14/01/2011', '06/12/2011', '04/03/2011',\n",
       "       '18/03/2011', '15/11/2011', '04/07/2011', '04/09/2011',\n",
       "       '06/01/2011', '28/01/2011', '11/10/2011', '18/10/2011',\n",
       "       '03/02/2011', '12/09/2011', '18/11/2011', '21/02/2011',\n",
       "       '24/02/2011', '03/05/2011', '31/03/2011', '02/08/2011',\n",
       "       '28/06/2011', '21/03/2011', '01/04/2011', '30/06/2011',\n",
       "       '07/06/2011', '10/11/2011', '13/09/2011', '01/08/2011',\n",
       "       '05/09/2011', '04/02/2011', '11/01/2011', '01/12/2010',\n",
       "       '16/08/2011', '30/08/2011', '28/10/2011', '05/05/2011',\n",
       "       '16/01/2011', '26/09/2011', '31/05/2011', '06/05/2011',\n",
       "       '19/10/2011', '20/12/2010', '28/02/2011', '09/11/2011',\n",
       "       '24/06/2011', '05/07/2011', '22/11/2011', '03/11/2011',\n",
       "       '21/09/2011', '08/08/2011', '24/05/2011', '16/09/2011',\n",
       "       '08/04/2011', '22/03/2011', '03/03/2011', '07/01/2011',\n",
       "       '07/04/2011', '17/11/2011', '04/10/2011', '08/02/2011',\n",
       "       '01/07/2011', '27/07/2011', '26/08/2011', '10/12/2010',\n",
       "       '26/07/2011', '02/02/2011', '22/05/2011', '04/12/2011',\n",
       "       '27/06/2011', '09/12/2011', '15/02/2011', '21/08/2011',\n",
       "       '12/08/2011', '28/04/2011', '28/11/2011', '03/10/2011',\n",
       "       '14/08/2011', '02/11/2011', '24/08/2011', '08/06/2011',\n",
       "       '26/06/2011', '11/04/2011', '10/10/2011', '20/01/2011',\n",
       "       '10/03/2011', '24/01/2011', '06/11/2011', '07/12/2010',\n",
       "       '11/03/2011', '27/09/2011', '30/11/2011', '13/01/2011',\n",
       "       '07/12/2011', '04/04/2011', '16/10/2011', '23/08/2011',\n",
       "       '17/01/2011', '30/09/2011', '19/09/2011', '18/02/2011',\n",
       "       '04/08/2011', '01/11/2011', '17/05/2011', '08/05/2011',\n",
       "       '29/09/2011', '16/02/2011', '13/06/2011', '05/10/2011',\n",
       "       '29/06/2011', '27/02/2011', '27/10/2011', '14/10/2011',\n",
       "       '22/08/2011', '01/02/2011', '20/09/2011', '02/03/2011',\n",
       "       '26/10/2011', '26/05/2011', '10/02/2011', '11/05/2011',\n",
       "       '18/08/2011', '09/08/2011', '20/03/2011', '05/01/2011',\n",
       "       '15/06/2011', '09/01/2011', '17/03/2011', '08/09/2011',\n",
       "       '28/03/2011', '10/07/2011', '29/05/2011', '12/06/2011',\n",
       "       '15/12/2010', '13/11/2011', '06/12/2010', '18/04/2011',\n",
       "       '14/06/2011', '10/05/2011', '29/03/2011', '23/05/2011',\n",
       "       '08/07/2011', '19/06/2011', '19/04/2011', '16/12/2010',\n",
       "       '02/06/2011', '20/10/2011', '13/12/2010', '07/07/2011',\n",
       "       '16/05/2011', '06/06/2011', '15/09/2011', '19/07/2011',\n",
       "       '25/03/2011', '12/01/2011', '02/09/2011', '17/08/2011',\n",
       "       '21/06/2011', '23/12/2010', '08/11/2011', '15/07/2011',\n",
       "       '02/10/2011', '01/09/2011', '24/11/2011', '23/11/2011',\n",
       "       '14/04/2011', '20/04/2011', '29/07/2011', '24/07/2011',\n",
       "       '20/02/2011', '13/10/2011', '01/12/2011', '27/05/2011',\n",
       "       '11/02/2011', '06/07/2011', '06/04/2011', '30/10/2011',\n",
       "       '04/01/2011', '14/02/2011', '20/07/2011', '16/06/2011',\n",
       "       '11/09/2011', '17/02/2011', '25/01/2011', '06/09/2011',\n",
       "       '06/03/2011', '05/12/2010', '23/02/2011', '25/02/2011',\n",
       "       '23/10/2011', '25/07/2011', '17/07/2011', '14/03/2011',\n",
       "       '23/03/2011', '08/03/2011', '10/08/2011', '19/05/2011',\n",
       "       '07/09/2011', '21/07/2011', '13/03/2011', '18/05/2011',\n",
       "       '03/08/2011', '05/08/2011', '12/07/2011', '09/10/2011',\n",
       "       '31/08/2011', '14/09/2011', '17/04/2011', '07/11/2011',\n",
       "       '09/09/2011', '21/01/2011', '11/07/2011', '30/03/2011',\n",
       "       '28/08/2011', '15/05/2011', '05/06/2011', '17/06/2011',\n",
       "       '12/04/2011', '25/08/2011', '20/05/2011', '19/08/2011',\n",
       "       '15/08/2011', '12/05/2011', '07/02/2011', '01/03/2011',\n",
       "       '03/07/2011', '18/09/2011', '01/05/2011', '18/01/2011',\n",
       "       '22/02/2011', '15/04/2011', '23/01/2011', '11/08/2011',\n",
       "       '17/12/2010', '31/07/2011', '09/02/2011', '17/10/2011',\n",
       "       '09/03/2011', '26/01/2011', '10/04/2011', '22/06/2011',\n",
       "       '12/12/2010', '13/07/2011', '21/12/2010', '18/07/2011',\n",
       "       '27/03/2011', '13/05/2011', '07/08/2011', '22/07/2011',\n",
       "       '13/02/2011', '30/01/2011', '03/04/2011', '22/12/2010',\n",
       "       '24/03/2011', '19/12/2010', '03/06/2011', '19/01/2011',\n",
       "       '06/02/2011'], dtype=object)"
      ]
     },
     "execution_count": 152,
     "metadata": {},
     "output_type": "execute_result"
    }
   ],
   "source": [
    "data['Date'].unique()"
   ]
  },
  {
   "cell_type": "code",
   "execution_count": 153,
   "id": "0eacc5d6",
   "metadata": {},
   "outputs": [],
   "source": [
    "data['Hour'] = pd.to_datetime(data['Time'], format='%H:%M').dt.hour"
   ]
  },
  {
   "cell_type": "code",
   "execution_count": 154,
   "id": "ce44f1f8",
   "metadata": {},
   "outputs": [
    {
     "data": {
      "image/png": "[encoded data removed]",
      "text/plain": [
       "<Figure size 640x480 with 1 Axes>"
      ]
     },
     "metadata": {},
     "output_type": "display_data"
    }
   ],
   "source": [
    "hour_hist = data.hist(column=\"Hour\", bins=15, grid=False)\n",
    " \n",
    "for ax in hour_hist.flatten():\n",
    "    ax.set_xlabel(\"Hour\")\n",
    "    ax.set_ylabel(\"Frequency\")\n",
    " "
   ]
  },
  {
   "cell_type": "code",
   "execution_count": 155,
   "id": "7f7ae63b",
   "metadata": {},
   "outputs": [
    {
     "name": "stdout",
     "output_type": "stream",
     "text": [
      "<class 'pandas.core.frame.DataFrame'>\n",
      "Int64Index: 25230 entries, 16392 to 22609\n",
      "Data columns (total 45 columns):\n",
      " #   Column          Non-Null Count  Dtype \n",
      "---  ------          --------------  ----- \n",
      " 0   transaction_ID  25230 non-null  object\n",
      " 1   Date            25230 non-null  object\n",
      " 2   Time            25230 non-null  object\n",
      " 3   item_0          24097 non-null  object\n",
      " 4   item_1          20358 non-null  object\n",
      " 5   item_2          18993 non-null  object\n",
      " 6   item_3          18036 non-null  object\n",
      " 7   item_4          17296 non-null  object\n",
      " 8   item_5          16594 non-null  object\n",
      " 9   item_6          15965 non-null  object\n",
      " 10  item_7          15361 non-null  object\n",
      " 11  item_8          14747 non-null  object\n",
      " 12  item_9          14150 non-null  object\n",
      " 13  item_10         13586 non-null  object\n",
      " 14  item_11         13059 non-null  object\n",
      " 15  item_12         12612 non-null  object\n",
      " 16  item_13         12147 non-null  object\n",
      " 17  item_14         11650 non-null  object\n",
      " 18  item_15         11112 non-null  object\n",
      " 19  item_16         10612 non-null  object\n",
      " 20  item_17         10150 non-null  object\n",
      " 21  item_18         9775 non-null   object\n",
      " 22  item_19         9377 non-null   object\n",
      " 23  item_20         8962 non-null   object\n",
      " 24  item_21         8608 non-null   object\n",
      " 25  item_22         8298 non-null   object\n",
      " 26  item_23         8001 non-null   object\n",
      " 27  item_24         7686 non-null   object\n",
      " 28  item_25         7439 non-null   object\n",
      " 29  item_26         7210 non-null   object\n",
      " 30  item_27         6968 non-null   object\n",
      " 31  item_28         6750 non-null   object\n",
      " 32  item_29         6449 non-null   object\n",
      " 33  item_30         6239 non-null   object\n",
      " 34  item_31         6071 non-null   object\n",
      " 35  item_32         5891 non-null   object\n",
      " 36  item_33         5742 non-null   object\n",
      " 37  item_34         5589 non-null   object\n",
      " 38  item_35         5457 non-null   object\n",
      " 39  item_36         5336 non-null   object\n",
      " 40  item_37         5212 non-null   object\n",
      " 41  item_38         5074 non-null   object\n",
      " 42  item_39         4954 non-null   object\n",
      " 43  item_40         4825 non-null   object\n",
      " 44  Hour            25230 non-null  int64 \n",
      "dtypes: int64(1), object(44)\n",
      "memory usage: 8.9+ MB\n"
     ]
    }
   ],
   "source": [
    "data.info()"
   ]
  },
  {
   "cell_type": "code",
   "execution_count": 156,
   "id": "bd549b1e",
   "metadata": {},
   "outputs": [],
   "source": [
    "data['Date'] = pd.to_datetime(data['Date'])"
   ]
  },
  {
   "cell_type": "code",
   "execution_count": 157,
   "id": "de928421",
   "metadata": {},
   "outputs": [
    {
     "name": "stdout",
     "output_type": "stream",
     "text": [
      "Requirement already satisfied: apyori in /Users/aminafaragai/opt/anaconda3/lib/python3.9/site-packages (1.1.2)\n",
      "Note: you may need to restart the kernel to use updated packages.\n"
     ]
    }
   ],
   "source": [
    "pip install apyori"
   ]
  },
  {
   "cell_type": "code",
   "execution_count": 158,
   "id": "6a28b951",
   "metadata": {},
   "outputs": [],
   "source": [
    "# import apyori\n",
    "from apyori import apriori"
   ]
  },
  {
   "cell_type": "code",
   "execution_count": 159,
   "id": "5bbf4255",
   "metadata": {},
   "outputs": [
    {
     "data": {
      "text/html": [
       "<div>\n",
       "<style scoped>\n",
       "    .dataframe tbody tr th:only-of-type {\n",
       "        vertical-align: middle;\n",
       "    }\n",
       "\n",
       "    .dataframe tbody tr th {\n",
       "        vertical-align: top;\n",
       "    }\n",
       "\n",
       "    .dataframe thead th {\n",
       "        text-align: right;\n",
       "    }\n",
       "</style>\n",
       "<table border=\"1\" class=\"dataframe\">\n",
       "  <thead>\n",
       "    <tr style=\"text-align: right;\">\n",
       "      <th></th>\n",
       "      <th>transaction_ID</th>\n",
       "      <th>Date</th>\n",
       "      <th>Time</th>\n",
       "      <th>item_0</th>\n",
       "      <th>item_1</th>\n",
       "      <th>item_2</th>\n",
       "      <th>item_3</th>\n",
       "      <th>item_4</th>\n",
       "      <th>item_5</th>\n",
       "      <th>item_6</th>\n",
       "      <th>...</th>\n",
       "      <th>item_32</th>\n",
       "      <th>item_33</th>\n",
       "      <th>item_34</th>\n",
       "      <th>item_35</th>\n",
       "      <th>item_36</th>\n",
       "      <th>item_37</th>\n",
       "      <th>item_38</th>\n",
       "      <th>item_39</th>\n",
       "      <th>item_40</th>\n",
       "      <th>Hour</th>\n",
       "    </tr>\n",
       "  </thead>\n",
       "  <tbody>\n",
       "    <tr>\n",
       "      <th>16392</th>\n",
       "      <td>560042</td>\n",
       "      <td>2011-07-14</td>\n",
       "      <td>14:46</td>\n",
       "      <td>LUNCH BAG  BLACK SKULL</td>\n",
       "      <td>LUNCH BAG APPLE DESIGN</td>\n",
       "      <td>RECYCLING BAG RETROSPOT</td>\n",
       "      <td>JUMBO BAG DOILEY PATTERNS</td>\n",
       "      <td>SPOTTY BUNTING</td>\n",
       "      <td>BOTTLE BAG RETROSPOT</td>\n",
       "      <td>TOY TIDY PINK POLKADOT</td>\n",
       "      <td>...</td>\n",
       "      <td>NaN</td>\n",
       "      <td>NaN</td>\n",
       "      <td>NaN</td>\n",
       "      <td>NaN</td>\n",
       "      <td>NaN</td>\n",
       "      <td>NaN</td>\n",
       "      <td>NaN</td>\n",
       "      <td>NaN</td>\n",
       "      <td>NaN</td>\n",
       "      <td>14</td>\n",
       "    </tr>\n",
       "  </tbody>\n",
       "</table>\n",
       "<p>1 rows × 45 columns</p>\n",
       "</div>"
      ],
      "text/plain": [
       "      transaction_ID       Date   Time                  item_0  \\\n",
       "16392         560042 2011-07-14  14:46  LUNCH BAG  BLACK SKULL   \n",
       "\n",
       "                       item_1                   item_2  \\\n",
       "16392  LUNCH BAG APPLE DESIGN  RECYCLING BAG RETROSPOT   \n",
       "\n",
       "                          item_3          item_4                item_5  \\\n",
       "16392  JUMBO BAG DOILEY PATTERNS  SPOTTY BUNTING  BOTTLE BAG RETROSPOT   \n",
       "\n",
       "                       item_6  ... item_32 item_33 item_34 item_35 item_36  \\\n",
       "16392  TOY TIDY PINK POLKADOT  ...     NaN     NaN     NaN     NaN     NaN   \n",
       "\n",
       "      item_37 item_38 item_39 item_40 Hour  \n",
       "16392     NaN     NaN     NaN     NaN   14  \n",
       "\n",
       "[1 rows x 45 columns]"
      ]
     },
     "execution_count": 159,
     "metadata": {},
     "output_type": "execute_result"
    }
   ],
   "source": [
    "data.head(1)"
   ]
  },
  {
   "cell_type": "code",
   "execution_count": 160,
   "id": "8f072245",
   "metadata": {},
   "outputs": [],
   "source": [
    "items_df=data[data.columns[3:44]]"
   ]
  },
  {
   "cell_type": "code",
   "execution_count": 161,
   "id": "988887fb",
   "metadata": {},
   "outputs": [
    {
     "data": {
      "text/html": [
       "<div>\n",
       "<style scoped>\n",
       "    .dataframe tbody tr th:only-of-type {\n",
       "        vertical-align: middle;\n",
       "    }\n",
       "\n",
       "    .dataframe tbody tr th {\n",
       "        vertical-align: top;\n",
       "    }\n",
       "\n",
       "    .dataframe thead th {\n",
       "        text-align: right;\n",
       "    }\n",
       "</style>\n",
       "<table border=\"1\" class=\"dataframe\">\n",
       "  <thead>\n",
       "    <tr style=\"text-align: right;\">\n",
       "      <th></th>\n",
       "      <th>item_0</th>\n",
       "      <th>item_1</th>\n",
       "      <th>item_2</th>\n",
       "      <th>item_3</th>\n",
       "      <th>item_4</th>\n",
       "      <th>item_5</th>\n",
       "      <th>item_6</th>\n",
       "      <th>item_7</th>\n",
       "      <th>item_8</th>\n",
       "      <th>item_9</th>\n",
       "      <th>...</th>\n",
       "      <th>item_31</th>\n",
       "      <th>item_32</th>\n",
       "      <th>item_33</th>\n",
       "      <th>item_34</th>\n",
       "      <th>item_35</th>\n",
       "      <th>item_36</th>\n",
       "      <th>item_37</th>\n",
       "      <th>item_38</th>\n",
       "      <th>item_39</th>\n",
       "      <th>item_40</th>\n",
       "    </tr>\n",
       "  </thead>\n",
       "  <tbody>\n",
       "    <tr>\n",
       "      <th>16392</th>\n",
       "      <td>LUNCH BAG  BLACK SKULL</td>\n",
       "      <td>LUNCH BAG APPLE DESIGN</td>\n",
       "      <td>RECYCLING BAG RETROSPOT</td>\n",
       "      <td>JUMBO BAG DOILEY PATTERNS</td>\n",
       "      <td>SPOTTY BUNTING</td>\n",
       "      <td>BOTTLE BAG RETROSPOT</td>\n",
       "      <td>TOY TIDY PINK POLKADOT</td>\n",
       "      <td>LUNCH BAG WOODLAND</td>\n",
       "      <td>LUNCH BAG PINK POLKADOT</td>\n",
       "      <td>LUNCH BAG DOLLY GIRL DESIGN</td>\n",
       "      <td>...</td>\n",
       "      <td>NaN</td>\n",
       "      <td>NaN</td>\n",
       "      <td>NaN</td>\n",
       "      <td>NaN</td>\n",
       "      <td>NaN</td>\n",
       "      <td>NaN</td>\n",
       "      <td>NaN</td>\n",
       "      <td>NaN</td>\n",
       "      <td>NaN</td>\n",
       "      <td>NaN</td>\n",
       "    </tr>\n",
       "    <tr>\n",
       "      <th>10078</th>\n",
       "      <td>HOLIDAY FUN LUDO</td>\n",
       "      <td>TRADITIONAL MODELLING CLAY</td>\n",
       "      <td>ENAMEL FLOWER JUG CREAM</td>\n",
       "      <td>ENAMEL MEASURING JUG CREAM</td>\n",
       "      <td>PACK OF 6 PANNETONE GIFT BOXES</td>\n",
       "      <td>PACK OF 6 BIRDY GIFT TAGS</td>\n",
       "      <td>RETROSPOT TEA SET CERAMIC 11 PC</td>\n",
       "      <td>CHILDRENS APRON SPACEBOY DESIGN</td>\n",
       "      <td>FELTCRAFT DOLL ROSIE</td>\n",
       "      <td>FELTCRAFT DOLL MOLLY</td>\n",
       "      <td>...</td>\n",
       "      <td>NaN</td>\n",
       "      <td>NaN</td>\n",
       "      <td>NaN</td>\n",
       "      <td>NaN</td>\n",
       "      <td>NaN</td>\n",
       "      <td>NaN</td>\n",
       "      <td>NaN</td>\n",
       "      <td>NaN</td>\n",
       "      <td>NaN</td>\n",
       "      <td>NaN</td>\n",
       "    </tr>\n",
       "    <tr>\n",
       "      <th>1350</th>\n",
       "      <td>SOLDIERS EGG CUP</td>\n",
       "      <td>LUNCH BOX I LOVE LONDON</td>\n",
       "      <td>RETRO COFFEE MUGS ASSORTED</td>\n",
       "      <td>NaN</td>\n",
       "      <td>NaN</td>\n",
       "      <td>NaN</td>\n",
       "      <td>NaN</td>\n",
       "      <td>NaN</td>\n",
       "      <td>NaN</td>\n",
       "      <td>NaN</td>\n",
       "      <td>...</td>\n",
       "      <td>NaN</td>\n",
       "      <td>NaN</td>\n",
       "      <td>NaN</td>\n",
       "      <td>NaN</td>\n",
       "      <td>NaN</td>\n",
       "      <td>NaN</td>\n",
       "      <td>NaN</td>\n",
       "      <td>NaN</td>\n",
       "      <td>NaN</td>\n",
       "      <td>NaN</td>\n",
       "    </tr>\n",
       "    <tr>\n",
       "      <th>25907</th>\n",
       "      <td>WOOD STAMP SET BEST WISHES</td>\n",
       "      <td>ROMANTIC IMAGES GIFT WRAP SET</td>\n",
       "      <td>PLASTERS IN TIN WOODLAND ANIMALS</td>\n",
       "      <td>PAPER BUNTING RETROSPOT</td>\n",
       "      <td>PACK OF 72 RETROSPOT CAKE CASES</td>\n",
       "      <td>MINI PAINT SET VINTAGE</td>\n",
       "      <td>PINK CREAM FELT CRAFT TRINKET BOX</td>\n",
       "      <td>FELTCRAFT DOLL MOLLY</td>\n",
       "      <td>PACK OF 6 BIRDY GIFT TAGS</td>\n",
       "      <td>SUKI  SHOULDER BAG</td>\n",
       "      <td>...</td>\n",
       "      <td>NaN</td>\n",
       "      <td>NaN</td>\n",
       "      <td>NaN</td>\n",
       "      <td>NaN</td>\n",
       "      <td>NaN</td>\n",
       "      <td>NaN</td>\n",
       "      <td>NaN</td>\n",
       "      <td>NaN</td>\n",
       "      <td>NaN</td>\n",
       "      <td>NaN</td>\n",
       "    </tr>\n",
       "    <tr>\n",
       "      <th>28258</th>\n",
       "      <td>LUNCH BAG  BLACK SKULL</td>\n",
       "      <td>JUMBO BAG 50'S CHRISTMAS</td>\n",
       "      <td>CHARLOTTE BAG DOLLY GIRL DESIGN</td>\n",
       "      <td>BLUE CHARLIE+LOLA PERSONAL DOORSIGN</td>\n",
       "      <td>NaN</td>\n",
       "      <td>NaN</td>\n",
       "      <td>NaN</td>\n",
       "      <td>NaN</td>\n",
       "      <td>NaN</td>\n",
       "      <td>NaN</td>\n",
       "      <td>...</td>\n",
       "      <td>NaN</td>\n",
       "      <td>NaN</td>\n",
       "      <td>NaN</td>\n",
       "      <td>NaN</td>\n",
       "      <td>NaN</td>\n",
       "      <td>NaN</td>\n",
       "      <td>NaN</td>\n",
       "      <td>NaN</td>\n",
       "      <td>NaN</td>\n",
       "      <td>NaN</td>\n",
       "    </tr>\n",
       "  </tbody>\n",
       "</table>\n",
       "<p>5 rows × 41 columns</p>\n",
       "</div>"
      ],
      "text/plain": [
       "                           item_0                         item_1  \\\n",
       "16392      LUNCH BAG  BLACK SKULL         LUNCH BAG APPLE DESIGN   \n",
       "10078            HOLIDAY FUN LUDO     TRADITIONAL MODELLING CLAY   \n",
       "1350             SOLDIERS EGG CUP        LUNCH BOX I LOVE LONDON   \n",
       "25907  WOOD STAMP SET BEST WISHES  ROMANTIC IMAGES GIFT WRAP SET   \n",
       "28258      LUNCH BAG  BLACK SKULL       JUMBO BAG 50'S CHRISTMAS   \n",
       "\n",
       "                                 item_2                               item_3  \\\n",
       "16392           RECYCLING BAG RETROSPOT            JUMBO BAG DOILEY PATTERNS   \n",
       "10078           ENAMEL FLOWER JUG CREAM           ENAMEL MEASURING JUG CREAM   \n",
       "1350         RETRO COFFEE MUGS ASSORTED                                  NaN   \n",
       "25907  PLASTERS IN TIN WOODLAND ANIMALS              PAPER BUNTING RETROSPOT   \n",
       "28258   CHARLOTTE BAG DOLLY GIRL DESIGN  BLUE CHARLIE+LOLA PERSONAL DOORSIGN   \n",
       "\n",
       "                                item_4                     item_5  \\\n",
       "16392                   SPOTTY BUNTING       BOTTLE BAG RETROSPOT   \n",
       "10078   PACK OF 6 PANNETONE GIFT BOXES  PACK OF 6 BIRDY GIFT TAGS   \n",
       "1350                               NaN                        NaN   \n",
       "25907  PACK OF 72 RETROSPOT CAKE CASES     MINI PAINT SET VINTAGE   \n",
       "28258                              NaN                        NaN   \n",
       "\n",
       "                                  item_6                           item_7  \\\n",
       "16392             TOY TIDY PINK POLKADOT               LUNCH BAG WOODLAND   \n",
       "10078    RETROSPOT TEA SET CERAMIC 11 PC  CHILDRENS APRON SPACEBOY DESIGN   \n",
       "1350                                 NaN                              NaN   \n",
       "25907  PINK CREAM FELT CRAFT TRINKET BOX             FELTCRAFT DOLL MOLLY   \n",
       "28258                                NaN                              NaN   \n",
       "\n",
       "                          item_8                       item_9  ... item_31  \\\n",
       "16392    LUNCH BAG PINK POLKADOT  LUNCH BAG DOLLY GIRL DESIGN  ...     NaN   \n",
       "10078       FELTCRAFT DOLL ROSIE         FELTCRAFT DOLL MOLLY  ...     NaN   \n",
       "1350                         NaN                          NaN  ...     NaN   \n",
       "25907  PACK OF 6 BIRDY GIFT TAGS           SUKI  SHOULDER BAG  ...     NaN   \n",
       "28258                        NaN                          NaN  ...     NaN   \n",
       "\n",
       "      item_32 item_33 item_34 item_35 item_36 item_37 item_38 item_39 item_40  \n",
       "16392     NaN     NaN     NaN     NaN     NaN     NaN     NaN     NaN     NaN  \n",
       "10078     NaN     NaN     NaN     NaN     NaN     NaN     NaN     NaN     NaN  \n",
       "1350      NaN     NaN     NaN     NaN     NaN     NaN     NaN     NaN     NaN  \n",
       "25907     NaN     NaN     NaN     NaN     NaN     NaN     NaN     NaN     NaN  \n",
       "28258     NaN     NaN     NaN     NaN     NaN     NaN     NaN     NaN     NaN  \n",
       "\n",
       "[5 rows x 41 columns]"
      ]
     },
     "execution_count": 161,
     "metadata": {},
     "output_type": "execute_result"
    }
   ],
   "source": [
    "items_df.head()"
   ]
  },
  {
   "cell_type": "code",
   "execution_count": 162,
   "id": "6ce0f7d8",
   "metadata": {},
   "outputs": [],
   "source": [
    "baskets = items_df.T.apply(lambda x: x.dropna().tolist()).tolist()"
   ]
  },
  {
   "cell_type": "code",
   "execution_count": 163,
   "id": "d4f95f26",
   "metadata": {},
   "outputs": [
    {
     "name": "stdout",
     "output_type": "stream",
     "text": [
      "['LUNCH BAG  BLACK SKULL', 'LUNCH BAG APPLE DESIGN', 'RECYCLING BAG RETROSPOT', 'JUMBO BAG DOILEY PATTERNS', 'SPOTTY BUNTING', 'BOTTLE BAG RETROSPOT', 'TOY TIDY PINK POLKADOT', 'LUNCH BAG WOODLAND', 'LUNCH BAG PINK POLKADOT', 'LUNCH BAG DOLLY GIRL DESIGN', 'JUMBO BAG VINTAGE LEAF']\n",
      "['HOLIDAY FUN LUDO', 'TRADITIONAL MODELLING CLAY', 'ENAMEL FLOWER JUG CREAM', 'ENAMEL MEASURING JUG CREAM', 'PACK OF 6 PANNETONE GIFT BOXES', 'PACK OF 6 BIRDY GIFT TAGS', 'RETROSPOT TEA SET CERAMIC 11 PC', 'CHILDRENS APRON SPACEBOY DESIGN', 'FELTCRAFT DOLL ROSIE', 'FELTCRAFT DOLL MOLLY', 'FELTCRAFT DOLL EMILY', 'FELTCRAFT CUSHION RABBIT', 'PACK OF 60 PINK PAISLEY CAKE CASES', 'BLACK KITCHEN SCALES', 'WOODEN ROUNDERS GARDEN SET', 'ZINC T-LIGHT HOLDER STARS SMALL', 'CLASSIC FRENCH STYLE BASKET GREEN', 'ZINC HEART LATTICE T-LIGHT HOLDER', 'SET OF 2 TINS JARDIN DE PROVENCE', 'WOODEN CROQUET GARDEN SET', 'WOODEN SKITTLES GARDEN SET', 'WHITE CANDYSTUFT ARTIFICIAL FLOWER', 'ASSORTED BOTTLE TOP  MAGNETS', 'WRAP ENGLISH ROSE', 'IVORY EMBROIDERED QUILT', 'PINK FAIRY CAKE CHILDRENS APRON']\n",
      "['SOLDIERS EGG CUP', 'LUNCH BOX I LOVE LONDON', 'RETRO COFFEE MUGS ASSORTED']\n",
      "['WOOD STAMP SET BEST WISHES', 'ROMANTIC IMAGES GIFT WRAP SET', 'PLASTERS IN TIN WOODLAND ANIMALS', 'PAPER BUNTING RETROSPOT', 'PACK OF 72 RETROSPOT CAKE CASES', 'MINI PAINT SET VINTAGE', 'PINK CREAM FELT CRAFT TRINKET BOX', 'FELTCRAFT DOLL MOLLY', 'PACK OF 6 BIRDY GIFT TAGS', 'SUKI  SHOULDER BAG', 'SET/6 RED SPOTTY PAPER PLATES', 'SET/6 RED SPOTTY PAPER CUPS', 'SET/20 RED RETROSPOT PAPER NAPKINS', 'WOODLAND SMALL PINK FELT HEART', 'MINI LIGHTS WOODLAND MUSHROOMS', 'PENS ASSORTED FUNNY FACE', 'GIFT BAG BIRTHDAY', 'PACK OF 72 SKULL CAKE CASES', 'PACK OF 60 MUSHROOM CAKE CASES', 'PACK OF 60 PINK PAISLEY CAKE CASES']\n",
      "['LUNCH BAG  BLACK SKULL', \"JUMBO BAG 50'S CHRISTMAS\", 'CHARLOTTE BAG DOLLY GIRL DESIGN', 'BLUE CHARLIE+LOLA PERSONAL DOORSIGN']\n"
     ]
    }
   ],
   "source": [
    "for i in baskets[:5]:\n",
    "    print(i)"
   ]
  },
  {
   "cell_type": "code",
   "execution_count": 164,
   "id": "d2006644",
   "metadata": {},
   "outputs": [],
   "source": [
    "association_rules = apriori(baskets, min_support=0.01, min_confidence=0.2, \n",
    "                            min_lift=3, min_length=2)\n",
    "association_results = list(association_rules)"
   ]
  },
  {
   "cell_type": "code",
   "execution_count": 165,
   "id": "322f086b",
   "metadata": {},
   "outputs": [
    {
     "name": "stdout",
     "output_type": "stream",
     "text": [
      "Rules generated:  93\n"
     ]
    }
   ],
   "source": [
    "print('Rules generated: ', len(association_results))"
   ]
  },
  {
   "cell_type": "code",
   "execution_count": 166,
   "id": "f6141319",
   "metadata": {},
   "outputs": [
    {
     "name": "stdout",
     "output_type": "stream",
     "text": [
      "RelationRecord(items=frozenset({'ALARM CLOCK BAKELIKE IVORY', 'ALARM CLOCK BAKELIKE GREEN'}), support=0.01070154577883472, ordered_statistics=[OrderedStatistic(items_base=frozenset({'ALARM CLOCK BAKELIKE GREEN'}), items_add=frozenset({'ALARM CLOCK BAKELIKE IVORY'}), confidence=0.3479381443298969, lift=19.00103762217164), OrderedStatistic(items_base=frozenset({'ALARM CLOCK BAKELIKE IVORY'}), items_add=frozenset({'ALARM CLOCK BAKELIKE GREEN'}), confidence=0.5844155844155844, lift=19.00103762217164)])\n"
     ]
    }
   ],
   "source": [
    "print(association_results[0])"
   ]
  },
  {
   "cell_type": "code",
   "execution_count": 167,
   "id": "b0f1be67",
   "metadata": {},
   "outputs": [
    {
     "name": "stdout",
     "output_type": "stream",
     "text": [
      "RelationRecord(items=frozenset({'ALARM CLOCK BAKELIKE GREEN', 'ALARM CLOCK BAKELIKE PINK'}), support=0.010978993261989695, ordered_statistics=[OrderedStatistic(items_base=frozenset({'ALARM CLOCK BAKELIKE GREEN'}), items_add=frozenset({'ALARM CLOCK BAKELIKE PINK'}), confidence=0.35695876288659795, lift=15.500980357364659), OrderedStatistic(items_base=frozenset({'ALARM CLOCK BAKELIKE PINK'}), items_add=frozenset({'ALARM CLOCK BAKELIKE GREEN'}), confidence=0.47676419965576594, lift=15.500980357364659)])\n"
     ]
    }
   ],
   "source": [
    "print(association_results[1])"
   ]
  },
  {
   "cell_type": "code",
   "execution_count": 168,
   "id": "2a42c461",
   "metadata": {},
   "outputs": [
    {
     "name": "stdout",
     "output_type": "stream",
     "text": [
      "frozenset({'ALARM CLOCK BAKELIKE GREEN', 'ALARM CLOCK BAKELIKE PINK'})\n"
     ]
    }
   ],
   "source": [
    "print(association_results[1][0])"
   ]
  },
  {
   "cell_type": "code",
   "execution_count": 169,
   "id": "1385aea4",
   "metadata": {},
   "outputs": [],
   "source": [
    "def display_rules(association_results):\n",
    "    for item in association_results:\n",
    "        pair = item[0] \n",
    "        items = [x for x in pair]\n",
    "        print(\"Rule: \" + items[0] + \" -> \" + items[1])\n",
    "        print(\"Support: \" + str(item[1]))\n",
    "        print(\"Confidence: \" + str(item[2][0][2]))\n",
    "        print(\"Lift: \" + str(item[2][0][3]))\n",
    "        print(\"=====================================\")"
   ]
  },
  {
   "cell_type": "code",
   "execution_count": 170,
   "id": "71e78796",
   "metadata": {},
   "outputs": [
    {
     "name": "stdout",
     "output_type": "stream",
     "text": [
      "Rule: ALARM CLOCK BAKELIKE IVORY -> ALARM CLOCK BAKELIKE GREEN\n",
      "Support: 0.01070154577883472\n",
      "Confidence: 0.3479381443298969\n",
      "Lift: 19.00103762217164\n",
      "=====================================\n",
      "Rule: ALARM CLOCK BAKELIKE GREEN -> ALARM CLOCK BAKELIKE PINK\n",
      "Support: 0.010978993261989695\n",
      "Confidence: 0.35695876288659795\n",
      "Lift: 15.500980357364659\n",
      "=====================================\n",
      "Rule: ALARM CLOCK BAKELIKE GREEN -> ALARM CLOCK BAKELIKE RED\n",
      "Support: 0.018707887435592548\n",
      "Confidence: 0.6082474226804123\n",
      "Lift: 18.24742268041237\n",
      "=====================================\n",
      "Rule: ALARM CLOCK BAKELIKE IVORY -> ALARM CLOCK BAKELIKE RED\n",
      "Support: 0.011137534680935394\n",
      "Confidence: 0.6082251082251081\n",
      "Lift: 18.246753246753244\n",
      "=====================================\n",
      "Rule: ALARM CLOCK BAKELIKE RED -> ALARM CLOCK BAKELIKE PINK\n",
      "Support: 0.012286959968291716\n",
      "Confidence: 0.5335628227194492\n",
      "Lift: 16.006884681583475\n",
      "=====================================\n",
      "Rule: RED  HARMONICA IN BOX -> BLUE HARMONICA IN BOX\n",
      "Support: 0.010107015457788348\n",
      "Confidence: 0.5279503105590062\n",
      "Lift: 24.351346134193285\n",
      "=====================================\n",
      "Rule: CHARLOTTE BAG PINK POLKADOT -> CHARLOTTE BAG SUKI DESIGN\n",
      "Support: 0.01296076099881094\n",
      "Confidence: 0.5165876777251185\n",
      "Lift: 17.927795198080798\n",
      "=====================================\n",
      "Rule: RED RETROSPOT CHARLOTTE BAG -> CHARLOTTE BAG PINK POLKADOT\n",
      "Support: 0.01117717003567182\n",
      "Confidence: 0.44549763033175355\n",
      "Lift: 13.477104572266358\n",
      "=====================================\n",
      "Rule: RED RETROSPOT CHARLOTTE BAG -> CHARLOTTE BAG SUKI DESIGN\n",
      "Support: 0.010543004359889021\n",
      "Confidence: 0.3658872077028886\n",
      "Lift: 11.068746103529831\n",
      "=====================================\n",
      "Rule: CHOCOLATE HOT WATER BOTTLE -> HOT WATER BOTTLE I AM SO POORLY\n",
      "Support: 0.010186286167261197\n",
      "Confidence: 0.3681948424068768\n",
      "Lift: 16.071895975649653\n",
      "=====================================\n",
      "Rule: HOT WATER BOTTLE TEA AND SYMPATHY -> CHOCOLATE HOT WATER BOTTLE\n",
      "Support: 0.01078081648830757\n",
      "Confidence: 0.38968481375358166\n",
      "Lift: 18.20694046482012\n",
      "=====================================\n",
      "Rule: COOK WITH WINE METAL SIGN -> GIN + TONIC DIET METAL SIGN\n",
      "Support: 0.010027744748315498\n",
      "Confidence: 0.4339622641509434\n",
      "Lift: 17.05431140892259\n",
      "=====================================\n",
      "Rule: SPACEBOY LUNCH BOX -> DOLLY GIRL LUNCH BOX\n",
      "Support: 0.01728101466508125\n",
      "Confidence: 0.608089260808926\n",
      "Lift: 20.483433978917493\n",
      "=====================================\n",
      "Rule: JUMBO BAG RED RETROSPOT -> DOTCOM POSTAGE\n",
      "Support: 0.010503369005152596\n",
      "Confidence: 0.4907407407407407\n",
      "Lift: 7.369874338624338\n",
      "=====================================\n",
      "Rule: GARDENERS KNEELING PAD KEEP CALM -> GARDENERS KNEELING PAD CUP OF TEA\n",
      "Support: 0.015537059056678557\n",
      "Confidence: 0.6666666666666666\n",
      "Lift: 23.232044198895025\n",
      "=====================================\n",
      "Rule: PINK REGENCY TEACUP AND SAUCER -> GREEN REGENCY TEACUP AND SAUCER\n",
      "Support: 0.020927467300832343\n",
      "Confidence: 0.5979614949037373\n",
      "Lift: 22.450250768484068\n",
      "=====================================\n",
      "Rule: REGENCY CAKESTAND 3 TIER -> GREEN REGENCY TEACUP AND SAUCER\n",
      "Support: 0.013317479191438763\n",
      "Confidence: 0.38052095130237823\n",
      "Lift: 5.575228572217771\n",
      "=====================================\n",
      "Rule: ROSES REGENCY TEACUP AND SAUCER -> GREEN REGENCY TEACUP AND SAUCER\n",
      "Support: 0.025089179548156957\n",
      "Confidence: 0.7168742921857305\n",
      "Lift: 19.220763434480318\n",
      "=====================================\n",
      "Rule: HEART OF WICKER LARGE -> HEART OF WICKER SMALL\n",
      "Support: 0.01296076099881094\n",
      "Confidence: 0.4873323397913562\n",
      "Lift: 12.82105832422932\n",
      "=====================================\n",
      "Rule: JAM MAKING SET WITH JARS -> JAM MAKING SET PRINTED\n",
      "Support: 0.015180340864050733\n",
      "Confidence: 0.3944387229660144\n",
      "Lift: 10.072559696794073\n",
      "=====================================\n",
      "Rule: JUMBO BAG RED RETROSPOT -> JUMBO  BAG BAROQUE BLACK WHITE\n",
      "Support: 0.017360285374554103\n",
      "Confidence: 0.5809018567639257\n",
      "Lift: 8.723901098901099\n",
      "=====================================\n",
      "Rule: JUMBO BAG 50'S CHRISTMAS -> JUMBO BAG VINTAGE CHRISTMAS\n",
      "Support: 0.010384462940943322\n",
      "Confidence: 0.45565217391304347\n",
      "Lift: 28.668589396075028\n",
      "=====================================\n",
      "Rule: JUMBO BAG APPLES -> JUMBO BAG ALPHABET\n",
      "Support: 0.01256440745144669\n",
      "Confidence: 0.4069319640564827\n",
      "Lift: 12.52060177212812\n",
      "=====================================\n",
      "Rule: JUMBO BAG APPLES -> JUMBO BAG PEARS\n",
      "Support: 0.013317479191438763\n",
      "Confidence: 0.4097560975609756\n",
      "Lift: 19.180234399746592\n",
      "=====================================\n",
      "Rule: JUMBO BAG APPLES -> JUMBO BAG RED RETROSPOT\n",
      "Support: 0.011930241775663892\n",
      "Confidence: 0.3670731707317073\n",
      "Lift: 5.51265243902439\n",
      "=====================================\n",
      "Rule: JUMBO BAG APPLES -> JUMBO BAG VINTAGE LEAF\n",
      "Support: 0.010741181133571146\n",
      "Confidence: 0.3304878048780488\n",
      "Lift: 11.727436451579706\n",
      "=====================================\n",
      "Rule: JUMBO BAG PEARS -> JUMBO BAG VINTAGE LEAF\n",
      "Support: 0.010107015457788348\n",
      "Confidence: 0.47309833024118736\n",
      "Lift: 16.788004039360278\n",
      "=====================================\n",
      "Rule: JUMBO BAG PINK POLKADOT -> JUMBO BAG RED RETROSPOT\n",
      "Support: 0.019262782401902497\n",
      "Confidence: 0.499486125385406\n",
      "Lift: 7.501211275877258\n",
      "=====================================\n",
      "Rule: JUMBO BAG SPACEBOY DESIGN -> JUMBO BAG PINK POLKADOT\n",
      "Support: 0.010820451843043996\n",
      "Confidence: 0.28057553956834536\n",
      "Lift: 12.142231326431137\n",
      "=====================================\n",
      "Rule: JUMBO BAG PINK POLKADOT -> JUMBO BAG WOODLAND ANIMALS\n",
      "Support: 0.010107015457788348\n",
      "Confidence: 0.2620760534429599\n",
      "Lift: 9.527635199374465\n",
      "=====================================\n",
      "Rule: JUMBO BAG PINK POLKADOT -> JUMBO SHOPPER VINTAGE RED PAISLEY\n",
      "Support: 0.013238208481965913\n",
      "Confidence: 0.3432682425488181\n",
      "Lift: 9.55922490011775\n",
      "=====================================\n",
      "Rule: JUMBO STORAGE BAG SUKI -> JUMBO BAG PINK POLKADOT\n",
      "Support: 0.01256440745144669\n",
      "Confidence: 0.3257965056526208\n",
      "Lift: 8.763161873790644\n",
      "=====================================\n",
      "Rule: JUMBO BAG PINK VINTAGE PAISLEY -> JUMBO BAG RED RETROSPOT\n",
      "Support: 0.010503369005152596\n",
      "Confidence: 0.38799414348462663\n",
      "Lift: 5.826840619117339\n",
      "=====================================\n",
      "Rule: JUMBO BAG PINK VINTAGE PAISLEY -> JUMBO BAG SCANDINAVIAN BLUE PAISLEY\n",
      "Support: 0.010225921521997621\n",
      "Confidence: 0.3777452415812591\n",
      "Lift: 18.327908548259934\n",
      "=====================================\n",
      "Rule: JUMBO STORAGE BAG SUKI -> JUMBO BAG PINK VINTAGE PAISLEY\n",
      "Support: 0.010027744748315498\n",
      "Confidence: 0.37042459736456806\n",
      "Lift: 9.96355286941157\n",
      "=====================================\n",
      "Rule: JUMBO BAG RED RETROSPOT -> JUMBO BAG STRAWBERRY\n",
      "Support: 0.016091954022988506\n",
      "Confidence: 0.24166666666666667\n",
      "Lift: 9.423879443585781\n",
      "=====================================\n",
      "Rule: JUMBO BAG RED RETROSPOT -> JUMBO BAG VINTAGE LEAF\n",
      "Support: 0.010582639714625445\n",
      "Confidence: 0.3755274261603375\n",
      "Lift: 5.639617239300783\n",
      "=====================================\n",
      "Rule: JUMBO BAG RED RETROSPOT -> JUMBO BAG WOODLAND ANIMALS\n",
      "Support: 0.01125644074514467\n",
      "Confidence: 0.4092219020172911\n",
      "Lift: 6.145636064223961\n",
      "=====================================\n",
      "Rule: JUMBO BAG RED RETROSPOT -> JUMBO SHOPPER VINTAGE RED PAISLEY\n",
      "Support: 0.013634562029330163\n",
      "Confidence: 0.20476190476190476\n",
      "Lift: 5.702144433932514\n",
      "=====================================\n",
      "Rule: JUMBO STORAGE BAG SUKI -> JUMBO BAG RED RETROSPOT\n",
      "Support: 0.015774871185097107\n",
      "Confidence: 0.2369047619047619\n",
      "Lift: 6.372182455071581\n",
      "=====================================\n",
      "Rule: JUMBO BAG RED RETROSPOT -> LUNCH BAG RED RETROSPOT\n",
      "Support: 0.012405866032500991\n",
      "Confidence: 0.23730098559514784\n",
      "Lift: 3.563752301527131\n",
      "=====================================\n",
      "Rule: JUMBO STORAGE BAG SUKI -> JUMBO SHOPPER VINTAGE RED PAISLEY\n",
      "Support: 0.012366230677764566\n",
      "Confidence: 0.3443708609271523\n",
      "Lift: 9.262768466089609\n",
      "=====================================\n"
     ]
    }
   ],
   "source": [
    "display_rules(association_results[:42])"
   ]
  },
  {
   "cell_type": "code",
   "execution_count": 171,
   "id": "fa9ee91d",
   "metadata": {},
   "outputs": [],
   "source": [
    "from collections import Counter\n",
    " \n",
    "counter = Counter(baskets[0])\n",
    "for i in baskets[1:]:\n",
    "    if i != 'nan':\n",
    "        counter.update(i)\n",
    " \n",
    "del counter['nan']\n",
    "mostcommon = counter.most_common(10)"
   ]
  },
  {
   "cell_type": "code",
   "execution_count": 172,
   "id": "3eb229f9",
   "metadata": {},
   "outputs": [
    {
     "data": {
      "text/plain": [
       "[('WHITE HANGING HEART T-LIGHT HOLDER', 1898),\n",
       " ('REGENCY CAKESTAND 3 TIER', 1740),\n",
       " ('JUMBO BAG RED RETROSPOT', 1697),\n",
       " ('PARTY BUNTING', 1370),\n",
       " ('LUNCH BAG RED RETROSPOT', 1342),\n",
       " ('ASSORTED COLOUR BIRD ORNAMENT', 1200),\n",
       " ('SET OF 3 CAKE TINS PANTRY DESIGN', 1191),\n",
       " ('LUNCH BAG  BLACK SKULL', 1063),\n",
       " ('PACK OF 72 RETROSPOT CAKE CASES', 1023),\n",
       " ('POSTAGE', 1017)]"
      ]
     },
     "execution_count": 172,
     "metadata": {},
     "output_type": "execute_result"
    }
   ],
   "source": [
    "mostcommon"
   ]
  },
  {
   "cell_type": "code",
   "execution_count": 173,
   "id": "9877ec77",
   "metadata": {},
   "outputs": [],
   "source": [
    "item = [x[0] for x in mostcommon]\n",
    "item_number = [x[1] for x in mostcommon]"
   ]
  },
  {
   "cell_type": "code",
   "execution_count": 174,
   "id": "b6a892b4",
   "metadata": {},
   "outputs": [
    {
     "data": {
      "text/plain": [
       "['WHITE HANGING HEART T-LIGHT HOLDER',\n",
       " 'REGENCY CAKESTAND 3 TIER',\n",
       " 'JUMBO BAG RED RETROSPOT',\n",
       " 'PARTY BUNTING',\n",
       " 'LUNCH BAG RED RETROSPOT',\n",
       " 'ASSORTED COLOUR BIRD ORNAMENT',\n",
       " 'SET OF 3 CAKE TINS PANTRY DESIGN',\n",
       " 'LUNCH BAG  BLACK SKULL',\n",
       " 'PACK OF 72 RETROSPOT CAKE CASES',\n",
       " 'POSTAGE']"
      ]
     },
     "execution_count": 174,
     "metadata": {},
     "output_type": "execute_result"
    }
   ],
   "source": [
    "item"
   ]
  },
  {
   "cell_type": "markdown",
   "id": "9dd9826b",
   "metadata": {},
   "source": [
    "### Q4.How many of these items can you find in the rules you have just displayed?Are all the top 10 items included? Provide an explanation as to why these items may be missing/present in the rules."
   ]
  },
  {
   "cell_type": "markdown",
   "id": "669ed156",
   "metadata": {},
   "source": [
    "Based on the top 10 association rule, none of the most common items are in top 10 of the association result displayed. This is because the most common items were mostly purchased as single items, and not in combination with other items. Although, the most common items had the highest number of sales in the shop, therefore, it could be suggested that the shelves in the shop be re-arranged such that, less comonly bought items be placed next to the most frequently purchased items on the shelves.\n",
    "\n",
    "Another reason why these products were the most common, but not in top 10 association rule might be because these particular products are cheap in this shop, compared to other items, in different shops, so customers tend to buy only those items from this shop. Hence, running promotions on buying the less purchased items together with the most common items at a lesser price might increase the sales."
   ]
  },
  {
   "cell_type": "markdown",
   "id": "a4f21197",
   "metadata": {},
   "source": [
    "### Q5. Run the apriori algorithm with the following three different settings"
   ]
  },
  {
   "cell_type": "code",
   "execution_count": 175,
   "id": "c93e314e",
   "metadata": {},
   "outputs": [],
   "source": [
    "#Setting 1: Min Support = 0.015, Min Confidence = 0.7, Min Lift = 3\n",
    "\n",
    "association_rules = apriori(baskets, min_support=0.015, min_confidence=0.7, \n",
    "                            min_lift=3, min_length=2)\n",
    "association_results = list(association_rules)\n"
   ]
  },
  {
   "cell_type": "code",
   "execution_count": 176,
   "id": "c6bf197b",
   "metadata": {},
   "outputs": [
    {
     "name": "stdout",
     "output_type": "stream",
     "text": [
      "Rules generated:  4\n"
     ]
    }
   ],
   "source": [
    "print('Rules generated: ', len(association_results))"
   ]
  },
  {
   "cell_type": "code",
   "execution_count": 177,
   "id": "2ffa7c20",
   "metadata": {},
   "outputs": [
    {
     "name": "stdout",
     "output_type": "stream",
     "text": [
      "RelationRecord(items=frozenset({'PINK REGENCY TEACUP AND SAUCER', 'GREEN REGENCY TEACUP AND SAUCER'}), support=0.020927467300832343, ordered_statistics=[OrderedStatistic(items_base=frozenset({'PINK REGENCY TEACUP AND SAUCER'}), items_add=frozenset({'GREEN REGENCY TEACUP AND SAUCER'}), confidence=0.7857142857142858, lift=22.450250768484064)])\n"
     ]
    }
   ],
   "source": [
    "print(association_results[0])"
   ]
  },
  {
   "cell_type": "code",
   "execution_count": 178,
   "id": "65168dd5",
   "metadata": {},
   "outputs": [
    {
     "name": "stdout",
     "output_type": "stream",
     "text": [
      "RelationRecord(items=frozenset({'ROSES REGENCY TEACUP AND SAUCER', 'GREEN REGENCY TEACUP AND SAUCER'}), support=0.025089179548156957, ordered_statistics=[OrderedStatistic(items_base=frozenset({'GREEN REGENCY TEACUP AND SAUCER'}), items_add=frozenset({'ROSES REGENCY TEACUP AND SAUCER'}), confidence=0.7168742921857305, lift=19.220763434480318)])\n"
     ]
    }
   ],
   "source": [
    "print(association_results[1])"
   ]
  },
  {
   "cell_type": "code",
   "execution_count": 179,
   "id": "a5338623",
   "metadata": {},
   "outputs": [
    {
     "name": "stdout",
     "output_type": "stream",
     "text": [
      "RelationRecord(items=frozenset({'ROSES REGENCY TEACUP AND SAUCER', 'PINK REGENCY TEACUP AND SAUCER', 'GREEN REGENCY TEACUP AND SAUCER'}), support=0.017637732857709077, ordered_statistics=[OrderedStatistic(items_base=frozenset({'PINK REGENCY TEACUP AND SAUCER', 'GREEN REGENCY TEACUP AND SAUCER'}), items_add=frozenset({'ROSES REGENCY TEACUP AND SAUCER'}), confidence=0.8428030303030303, lift=22.597152449038738), OrderedStatistic(items_base=frozenset({'ROSES REGENCY TEACUP AND SAUCER', 'GREEN REGENCY TEACUP AND SAUCER'}), items_add=frozenset({'PINK REGENCY TEACUP AND SAUCER'}), confidence=0.7030015797788309, lift=26.39394324080343), OrderedStatistic(items_base=frozenset({'ROSES REGENCY TEACUP AND SAUCER', 'PINK REGENCY TEACUP AND SAUCER'}), items_add=frozenset({'GREEN REGENCY TEACUP AND SAUCER'}), confidence=0.8742632612966602, lift=24.980364759359837)])\n"
     ]
    }
   ],
   "source": [
    "print(association_results[3])"
   ]
  },
  {
   "cell_type": "code",
   "execution_count": 180,
   "id": "a26a8855",
   "metadata": {},
   "outputs": [],
   "source": [
    "def display_rules(association_results):\n",
    "    for item in association_results:\n",
    "        pair = item[0] \n",
    "        items = [x for x in pair]\n",
    "        print(\"Rule: \" + items[0] + \" -> \" + items[1])\n",
    "        print(\"Support: \" + str(item[1]))\n",
    "        print(\"Confidence: \" + str(item[2][0][2]))\n",
    "        print(\"Lift: \" + str(item[2][0][3]))\n",
    "        print(\"=====================================\")"
   ]
  },
  {
   "cell_type": "code",
   "execution_count": 181,
   "id": "d555f649",
   "metadata": {},
   "outputs": [
    {
     "name": "stdout",
     "output_type": "stream",
     "text": [
      "Rule: PINK REGENCY TEACUP AND SAUCER -> GREEN REGENCY TEACUP AND SAUCER\n",
      "Support: 0.020927467300832343\n",
      "Confidence: 0.7857142857142858\n",
      "Lift: 22.450250768484064\n",
      "=====================================\n",
      "Rule: ROSES REGENCY TEACUP AND SAUCER -> GREEN REGENCY TEACUP AND SAUCER\n",
      "Support: 0.025089179548156957\n",
      "Confidence: 0.7168742921857305\n",
      "Lift: 19.220763434480318\n",
      "=====================================\n",
      "Rule: ROSES REGENCY TEACUP AND SAUCER -> PINK REGENCY TEACUP AND SAUCER\n",
      "Support: 0.020174395560840268\n",
      "Confidence: 0.7574404761904762\n",
      "Lift: 20.30841999392743\n",
      "=====================================\n",
      "Rule: ROSES REGENCY TEACUP AND SAUCER -> PINK REGENCY TEACUP AND SAUCER\n",
      "Support: 0.017637732857709077\n",
      "Confidence: 0.8428030303030303\n",
      "Lift: 22.597152449038738\n",
      "=====================================\n"
     ]
    }
   ],
   "source": [
    "display_rules(association_results[:4])"
   ]
  },
  {
   "cell_type": "code",
   "execution_count": 182,
   "id": "d236aeb8",
   "metadata": {},
   "outputs": [],
   "source": [
    "#Setting 2: Min Support = 0.009, Min Confidence = 0.5, Min Lift = 3\n",
    "\n",
    "association_rules = apriori(baskets, min_support=0.009, min_confidence=0.5, \n",
    "                            min_lift=3, min_length=2)\n",
    "association_results = list(association_rules)"
   ]
  },
  {
   "cell_type": "code",
   "execution_count": 183,
   "id": "d7c2e310",
   "metadata": {},
   "outputs": [
    {
     "name": "stdout",
     "output_type": "stream",
     "text": [
      "Rules generated:  39\n"
     ]
    }
   ],
   "source": [
    "print('Rules generated: ', len(association_results))"
   ]
  },
  {
   "cell_type": "code",
   "execution_count": 184,
   "id": "4f45846c",
   "metadata": {},
   "outputs": [
    {
     "name": "stdout",
     "output_type": "stream",
     "text": [
      "RelationRecord(items=frozenset({'ALARM CLOCK BAKELIKE IVORY', 'ALARM CLOCK BAKELIKE GREEN'}), support=0.01070154577883472, ordered_statistics=[OrderedStatistic(items_base=frozenset({'ALARM CLOCK BAKELIKE IVORY'}), items_add=frozenset({'ALARM CLOCK BAKELIKE GREEN'}), confidence=0.5844155844155844, lift=19.00103762217164)])\n"
     ]
    }
   ],
   "source": [
    "print(association_results[0])"
   ]
  },
  {
   "cell_type": "code",
   "execution_count": 185,
   "id": "c78e7cf9",
   "metadata": {},
   "outputs": [],
   "source": [
    "def display_rules(association_results):\n",
    "    for item in association_results:\n",
    "        pair = item[0] \n",
    "        items = [x for x in pair]\n",
    "        print(\"Rule: \" + items[0] + \" -> \" + items[1])\n",
    "        print(\"Support: \" + str(item[1]))\n",
    "        print(\"Confidence: \" + str(item[2][0][2]))\n",
    "        print(\"Lift: \" + str(item[2][0][3]))\n",
    "        print(\"=====================================\")"
   ]
  },
  {
   "cell_type": "code",
   "execution_count": 186,
   "id": "462fbe4b",
   "metadata": {},
   "outputs": [
    {
     "name": "stdout",
     "output_type": "stream",
     "text": [
      "Rule: ALARM CLOCK BAKELIKE IVORY -> ALARM CLOCK BAKELIKE GREEN\n",
      "Support: 0.01070154577883472\n",
      "Confidence: 0.5844155844155844\n",
      "Lift: 19.00103762217164\n",
      "=====================================\n",
      "Rule: ALARM CLOCK BAKELIKE GREEN -> ALARM CLOCK BAKELIKE RED\n",
      "Support: 0.018707887435592548\n",
      "Confidence: 0.6082474226804123\n",
      "Lift: 18.24742268041237\n",
      "=====================================\n",
      "Rule: ALARM CLOCK BAKELIKE IVORY -> ALARM CLOCK BAKELIKE RED\n",
      "Support: 0.011137534680935394\n",
      "Confidence: 0.6082251082251081\n",
      "Lift: 18.246753246753244\n",
      "=====================================\n",
      "Rule: ALARM CLOCK BAKELIKE RED -> ALARM CLOCK BAKELIKE PINK\n",
      "Support: 0.012286959968291716\n",
      "Confidence: 0.5335628227194492\n",
      "Lift: 16.006884681583475\n",
      "=====================================\n",
      "Rule: RED  HARMONICA IN BOX -> BLUE HARMONICA IN BOX\n",
      "Support: 0.010107015457788348\n",
      "Confidence: 0.5279503105590062\n",
      "Lift: 24.351346134193285\n",
      "=====================================\n",
      "Rule: CHARLOTTE BAG PINK POLKADOT -> CHARLOTTE BAG SUKI DESIGN\n",
      "Support: 0.01296076099881094\n",
      "Confidence: 0.5165876777251185\n",
      "Lift: 17.927795198080798\n",
      "=====================================\n",
      "Rule: HOT WATER BOTTLE TEA AND SYMPATHY -> CHOCOLATE HOT WATER BOTTLE\n",
      "Support: 0.01078081648830757\n",
      "Confidence: 0.5037037037037037\n",
      "Lift: 18.206940464820118\n",
      "=====================================\n",
      "Rule: SPACEBOY LUNCH BOX -> DOLLY GIRL LUNCH BOX\n",
      "Support: 0.01728101466508125\n",
      "Confidence: 0.608089260808926\n",
      "Lift: 20.483433978917493\n",
      "=====================================\n",
      "Rule: GARDENERS KNEELING PAD KEEP CALM -> GARDENERS KNEELING PAD CUP OF TEA\n",
      "Support: 0.015537059056678557\n",
      "Confidence: 0.6666666666666666\n",
      "Lift: 23.232044198895025\n",
      "=====================================\n",
      "Rule: PINK REGENCY TEACUP AND SAUCER -> GREEN REGENCY TEACUP AND SAUCER\n",
      "Support: 0.020927467300832343\n",
      "Confidence: 0.5979614949037373\n",
      "Lift: 22.450250768484068\n",
      "=====================================\n",
      "Rule: ROSES REGENCY TEACUP AND SAUCER -> GREEN REGENCY TEACUP AND SAUCER\n",
      "Support: 0.025089179548156957\n",
      "Confidence: 0.7168742921857305\n",
      "Lift: 19.220763434480318\n",
      "=====================================\n",
      "Rule: HAND WARMER OWL DESIGN -> HAND WARMER SCOTTY DOG DESIGN\n",
      "Support: 0.009274673008323424\n",
      "Confidence: 0.5721271393643031\n",
      "Lift: 27.812654578345605\n",
      "=====================================\n"
     ]
    }
   ],
   "source": [
    "display_rules(association_results[:12])"
   ]
  },
  {
   "cell_type": "code",
   "execution_count": 187,
   "id": "a4cfc794",
   "metadata": {},
   "outputs": [],
   "source": [
    "#Setting 3: Min Support = 0.015, Min Confidence = 0.5, Min Lift = 9\n",
    "association_rules = apriori(baskets, min_support=0.015, min_confidence=0.5, \n",
    "                            min_lift=9, min_length=2)\n",
    "association_results = list(association_rules)\n"
   ]
  },
  {
   "cell_type": "code",
   "execution_count": 188,
   "id": "804dcaf4",
   "metadata": {},
   "outputs": [
    {
     "name": "stdout",
     "output_type": "stream",
     "text": [
      "Rules generated:  9\n"
     ]
    }
   ],
   "source": [
    "print('Rules generated: ', len(association_results))"
   ]
  },
  {
   "cell_type": "code",
   "execution_count": 189,
   "id": "34934b01",
   "metadata": {},
   "outputs": [
    {
     "name": "stdout",
     "output_type": "stream",
     "text": [
      "RelationRecord(items=frozenset({'ALARM CLOCK BAKELIKE GREEN', 'ALARM CLOCK BAKELIKE RED'}), support=0.018707887435592548, ordered_statistics=[OrderedStatistic(items_base=frozenset({'ALARM CLOCK BAKELIKE GREEN'}), items_add=frozenset({'ALARM CLOCK BAKELIKE RED'}), confidence=0.6082474226804123, lift=18.24742268041237), OrderedStatistic(items_base=frozenset({'ALARM CLOCK BAKELIKE RED'}), items_add=frozenset({'ALARM CLOCK BAKELIKE GREEN'}), confidence=0.5612366230677764, lift=18.24742268041237)])\n"
     ]
    }
   ],
   "source": [
    "print(association_results[0])"
   ]
  },
  {
   "cell_type": "code",
   "execution_count": 190,
   "id": "4e127b63",
   "metadata": {},
   "outputs": [
    {
     "name": "stdout",
     "output_type": "stream",
     "text": [
      "Rule: ALARM CLOCK BAKELIKE GREEN -> ALARM CLOCK BAKELIKE RED\n",
      "Support: 0.018707887435592548\n",
      "Confidence: 0.6082474226804123\n",
      "Lift: 18.24742268041237\n",
      "=====================================\n",
      "Rule: SPACEBOY LUNCH BOX -> DOLLY GIRL LUNCH BOX\n",
      "Support: 0.01728101466508125\n",
      "Confidence: 0.608089260808926\n",
      "Lift: 20.483433978917493\n",
      "=====================================\n",
      "Rule: GARDENERS KNEELING PAD KEEP CALM -> GARDENERS KNEELING PAD CUP OF TEA\n",
      "Support: 0.015537059056678557\n",
      "Confidence: 0.6666666666666666\n",
      "Lift: 23.232044198895025\n",
      "=====================================\n",
      "Rule: PINK REGENCY TEACUP AND SAUCER -> GREEN REGENCY TEACUP AND SAUCER\n",
      "Support: 0.020927467300832343\n",
      "Confidence: 0.5979614949037373\n",
      "Lift: 22.450250768484068\n",
      "=====================================\n",
      "Rule: ROSES REGENCY TEACUP AND SAUCER -> GREEN REGENCY TEACUP AND SAUCER\n",
      "Support: 0.025089179548156957\n",
      "Confidence: 0.7168742921857305\n",
      "Lift: 19.220763434480318\n",
      "=====================================\n",
      "Rule: JUMBO BAG RED RETROSPOT -> JUMBO BAG STRAWBERRY\n",
      "Support: 0.016091954022988506\n",
      "Confidence: 0.6275115919629056\n",
      "Lift: 9.42387944358578\n",
      "=====================================\n",
      "Rule: ROSES REGENCY TEACUP AND SAUCER -> PINK REGENCY TEACUP AND SAUCER\n",
      "Support: 0.020174395560840268\n",
      "Confidence: 0.7574404761904762\n",
      "Lift: 20.30841999392743\n",
      "=====================================\n",
      "Rule: WOODEN PICTURE FRAME WHITE FINISH -> WOODEN FRAME ANTIQUE WHITE\n",
      "Support: 0.01644867221561633\n",
      "Confidence: 0.5259822560202789\n",
      "Lift: 14.728670720745436\n",
      "=====================================\n",
      "Rule: ROSES REGENCY TEACUP AND SAUCER -> PINK REGENCY TEACUP AND SAUCER\n",
      "Support: 0.017637732857709077\n",
      "Confidence: 0.5039637599093998\n",
      "Lift: 24.980364759359837\n",
      "=====================================\n"
     ]
    }
   ],
   "source": [
    "display_rules(association_results[:12])"
   ]
  },
  {
   "cell_type": "markdown",
   "id": "cf1b8f7d",
   "metadata": {},
   "source": [
    "Calculate the number of rules you get for each setting and how the quality of the rules differ in each setting.\n",
    "\n",
    "Setting 1: Min Support = 0.015, Min Confidence = 0.7, Min Lift = 3, rules generated = 4\n",
    "\n",
    "Setting 2: Min Support = 0.009, Min Confidence = 0.5, Min Lift = 3, rules generated = 39\n",
    "\n",
    "Setting 3: Min Support = 0.015, Min Confidence = 0.5, Min Lift = 9, rules generated = 9\n",
    "\n",
    "In aprori, setting high parameters limit the size, number of rules, and strength of rules generated. This largely depends on what the organisation wants and the reasons behind the algorithm. If more vital rules are the focus, increasing the value of confidence will give the best result like in Setting 1, and reducing values give more rules like in Setting 2, but this has its limitations. \n",
    "\n",
    "\n",
    "For Setting 1, the rules are strong, but some are repeated which makes them irrelevant, thus reducing the quality of rules generated using the first set.\n",
    "\n",
    "For Setting 2, more extensive set of rules are generated.\n",
    "\n",
    "For Setting 3, the rules are stronger than Setting 1, which is an improvement from Setting 1. The goal of association rule mining is to end up with rules that are direct.\n",
    "\n",
    "Generally, rather than using thresholds to reduce the rules down to a smaller set, it is better for a more extensive set of rules to be returned so that there is a greater chance of generating relevant rules like in settings 2.\n",
    "For this store therefore, Setting 2 is recommended."
   ]
  },
  {
   "cell_type": "markdown",
   "id": "95351aa4",
   "metadata": {},
   "source": [
    "### Q6. Filter the transactions on the 'day' of the week or on the 'month' to perform analysis on either of them on two durations. Generate association rules to discover if there are significant differences in the buying behaviour between chosen durations, and, discuss if the rules are useful."
   ]
  },
  {
   "cell_type": "code",
   "execution_count": 191,
   "id": "796ca926",
   "metadata": {},
   "outputs": [],
   "source": [
    "data[\"Month\"]= data['Date'].dt.month"
   ]
  },
  {
   "cell_type": "code",
   "execution_count": 192,
   "id": "13c85957",
   "metadata": {},
   "outputs": [
    {
     "data": {
      "image/png": "[encoded data removed]",
      "text/plain": [
       "<Figure size 640x480 with 1 Axes>"
      ]
     },
     "metadata": {},
     "output_type": "display_data"
    }
   ],
   "source": [
    "Month_hist = data.hist(column=\"Month\", bins=12, grid=False)\n",
    " \n",
    "for ax in Month_hist.flatten():\n",
    "    ax.set_xlabel(\"Month\")\n",
    "    ax.set_ylabel(\"Frequency\")"
   ]
  },
  {
   "cell_type": "markdown",
   "id": "d4efff77",
   "metadata": {},
   "source": [
    "Running comparison for 2 months July(summer) and December(winter)."
   ]
  },
  {
   "cell_type": "code",
   "execution_count": 193,
   "id": "e7866f8e",
   "metadata": {},
   "outputs": [],
   "source": [
    "#January\n",
    "month_jul= data.loc[data['Month']==7]"
   ]
  },
  {
   "cell_type": "code",
   "execution_count": 194,
   "id": "518a0024",
   "metadata": {},
   "outputs": [],
   "source": [
    "#February\n",
    "month_dec= data.loc[data['Month']==12]"
   ]
  },
  {
   "cell_type": "code",
   "execution_count": 195,
   "id": "b09ea1f0",
   "metadata": {
    "scrolled": true
   },
   "outputs": [
    {
     "data": {
      "text/html": [
       "<div>\n",
       "<style scoped>\n",
       "    .dataframe tbody tr th:only-of-type {\n",
       "        vertical-align: middle;\n",
       "    }\n",
       "\n",
       "    .dataframe tbody tr th {\n",
       "        vertical-align: top;\n",
       "    }\n",
       "\n",
       "    .dataframe thead th {\n",
       "        text-align: right;\n",
       "    }\n",
       "</style>\n",
       "<table border=\"1\" class=\"dataframe\">\n",
       "  <thead>\n",
       "    <tr style=\"text-align: right;\">\n",
       "      <th></th>\n",
       "      <th>transaction_ID</th>\n",
       "      <th>Date</th>\n",
       "      <th>Time</th>\n",
       "      <th>item_0</th>\n",
       "      <th>item_1</th>\n",
       "      <th>item_2</th>\n",
       "      <th>item_3</th>\n",
       "      <th>item_4</th>\n",
       "      <th>item_5</th>\n",
       "      <th>item_6</th>\n",
       "      <th>...</th>\n",
       "      <th>item_33</th>\n",
       "      <th>item_34</th>\n",
       "      <th>item_35</th>\n",
       "      <th>item_36</th>\n",
       "      <th>item_37</th>\n",
       "      <th>item_38</th>\n",
       "      <th>item_39</th>\n",
       "      <th>item_40</th>\n",
       "      <th>Hour</th>\n",
       "      <th>Month</th>\n",
       "    </tr>\n",
       "  </thead>\n",
       "  <tbody>\n",
       "    <tr>\n",
       "      <th>1716</th>\n",
       "      <td>538724</td>\n",
       "      <td>2010-12-14</td>\n",
       "      <td>11:12</td>\n",
       "      <td>OFFICE MUG WARMER BLACK+SILVER</td>\n",
       "      <td>NaN</td>\n",
       "      <td>NaN</td>\n",
       "      <td>NaN</td>\n",
       "      <td>NaN</td>\n",
       "      <td>NaN</td>\n",
       "      <td>NaN</td>\n",
       "      <td>...</td>\n",
       "      <td>NaN</td>\n",
       "      <td>NaN</td>\n",
       "      <td>NaN</td>\n",
       "      <td>NaN</td>\n",
       "      <td>NaN</td>\n",
       "      <td>NaN</td>\n",
       "      <td>NaN</td>\n",
       "      <td>NaN</td>\n",
       "      <td>11</td>\n",
       "      <td>12</td>\n",
       "    </tr>\n",
       "    <tr>\n",
       "      <th>23914</th>\n",
       "      <td>570694</td>\n",
       "      <td>2011-12-10</td>\n",
       "      <td>08:10</td>\n",
       "      <td>CARRIAGE</td>\n",
       "      <td>JAM MAKING SET PRINTED</td>\n",
       "      <td>TABLECLOTH RED APPLES DESIGN</td>\n",
       "      <td>SET 6 SCHOOL MILK BOTTLES IN CRATE</td>\n",
       "      <td>HOT WATER BOTTLE TEA AND SYMPATHY</td>\n",
       "      <td>SET OF 3 CAKE TINS PANTRY DESIGN</td>\n",
       "      <td>RECIPE BOX PANTRY YELLOW DESIGN</td>\n",
       "      <td>...</td>\n",
       "      <td>NaN</td>\n",
       "      <td>NaN</td>\n",
       "      <td>NaN</td>\n",
       "      <td>NaN</td>\n",
       "      <td>NaN</td>\n",
       "      <td>NaN</td>\n",
       "      <td>NaN</td>\n",
       "      <td>NaN</td>\n",
       "      <td>8</td>\n",
       "      <td>12</td>\n",
       "    </tr>\n",
       "    <tr>\n",
       "      <th>1814</th>\n",
       "      <td>C538874</td>\n",
       "      <td>2010-12-14</td>\n",
       "      <td>15:16</td>\n",
       "      <td>HOME SWEET HOME MUG</td>\n",
       "      <td>3 HOOK HANGER MAGIC GARDEN</td>\n",
       "      <td>JIGSAW TREE WITH WATERING CAN</td>\n",
       "      <td>WOODEN FRAME ANTIQUE WHITE</td>\n",
       "      <td>NaN</td>\n",
       "      <td>NaN</td>\n",
       "      <td>NaN</td>\n",
       "      <td>...</td>\n",
       "      <td>NaN</td>\n",
       "      <td>NaN</td>\n",
       "      <td>NaN</td>\n",
       "      <td>NaN</td>\n",
       "      <td>NaN</td>\n",
       "      <td>NaN</td>\n",
       "      <td>NaN</td>\n",
       "      <td>NaN</td>\n",
       "      <td>15</td>\n",
       "      <td>12</td>\n",
       "    </tr>\n",
       "    <tr>\n",
       "      <th>20754</th>\n",
       "      <td>566364</td>\n",
       "      <td>2011-12-09</td>\n",
       "      <td>12:32</td>\n",
       "      <td>BLUE HARMONICA IN BOX</td>\n",
       "      <td>SET 12 RETRO WHITE CHALK STICKS</td>\n",
       "      <td>SET 12 KIDS COLOUR  CHALK STICKS</td>\n",
       "      <td>PACK OF 12 COLOURED PENCILS</td>\n",
       "      <td>PACK OF 12 TRADITIONAL CRAYONS</td>\n",
       "      <td>MONSTERS STENCIL CRAFT</td>\n",
       "      <td>ALPHABET STENCIL CRAFT</td>\n",
       "      <td>...</td>\n",
       "      <td>NaN</td>\n",
       "      <td>NaN</td>\n",
       "      <td>NaN</td>\n",
       "      <td>NaN</td>\n",
       "      <td>NaN</td>\n",
       "      <td>NaN</td>\n",
       "      <td>NaN</td>\n",
       "      <td>NaN</td>\n",
       "      <td>12</td>\n",
       "      <td>12</td>\n",
       "    </tr>\n",
       "    <tr>\n",
       "      <th>23915</th>\n",
       "      <td>570695</td>\n",
       "      <td>2011-12-10</td>\n",
       "      <td>08:56</td>\n",
       "      <td>CHRISTMAS GINGHAM STAR</td>\n",
       "      <td>SET OF 3 WOODEN SLEIGH DECORATIONS</td>\n",
       "      <td>STAR T-LIGHT HOLDER WILLIE WINKIE</td>\n",
       "      <td>JINGLE BELL HEART ANTIQUE SILVER</td>\n",
       "      <td>CHRISTMAS TREE HANGING SILVER</td>\n",
       "      <td>12 PENCILS TALL TUBE SKULLS</td>\n",
       "      <td>12 PENCILS TALL TUBE RED RETROSPOT</td>\n",
       "      <td>...</td>\n",
       "      <td>NaN</td>\n",
       "      <td>NaN</td>\n",
       "      <td>NaN</td>\n",
       "      <td>NaN</td>\n",
       "      <td>NaN</td>\n",
       "      <td>NaN</td>\n",
       "      <td>NaN</td>\n",
       "      <td>NaN</td>\n",
       "      <td>8</td>\n",
       "      <td>12</td>\n",
       "    </tr>\n",
       "  </tbody>\n",
       "</table>\n",
       "<p>5 rows × 46 columns</p>\n",
       "</div>"
      ],
      "text/plain": [
       "      transaction_ID       Date   Time                          item_0  \\\n",
       "1716          538724 2010-12-14  11:12  OFFICE MUG WARMER BLACK+SILVER   \n",
       "23914         570694 2011-12-10  08:10                        CARRIAGE   \n",
       "1814         C538874 2010-12-14  15:16             HOME SWEET HOME MUG   \n",
       "20754         566364 2011-12-09  12:32           BLUE HARMONICA IN BOX   \n",
       "23915         570695 2011-12-10  08:56          CHRISTMAS GINGHAM STAR   \n",
       "\n",
       "                                   item_1                             item_2  \\\n",
       "1716                                  NaN                                NaN   \n",
       "23914              JAM MAKING SET PRINTED       TABLECLOTH RED APPLES DESIGN   \n",
       "1814           3 HOOK HANGER MAGIC GARDEN      JIGSAW TREE WITH WATERING CAN   \n",
       "20754     SET 12 RETRO WHITE CHALK STICKS   SET 12 KIDS COLOUR  CHALK STICKS   \n",
       "23915  SET OF 3 WOODEN SLEIGH DECORATIONS  STAR T-LIGHT HOLDER WILLIE WINKIE   \n",
       "\n",
       "                                   item_3                             item_4  \\\n",
       "1716                                  NaN                                NaN   \n",
       "23914  SET 6 SCHOOL MILK BOTTLES IN CRATE  HOT WATER BOTTLE TEA AND SYMPATHY   \n",
       "1814           WOODEN FRAME ANTIQUE WHITE                                NaN   \n",
       "20754         PACK OF 12 COLOURED PENCILS     PACK OF 12 TRADITIONAL CRAYONS   \n",
       "23915    JINGLE BELL HEART ANTIQUE SILVER      CHRISTMAS TREE HANGING SILVER   \n",
       "\n",
       "                                 item_5                              item_6  \\\n",
       "1716                                NaN                                 NaN   \n",
       "23914  SET OF 3 CAKE TINS PANTRY DESIGN     RECIPE BOX PANTRY YELLOW DESIGN   \n",
       "1814                                NaN                                 NaN   \n",
       "20754            MONSTERS STENCIL CRAFT              ALPHABET STENCIL CRAFT   \n",
       "23915       12 PENCILS TALL TUBE SKULLS  12 PENCILS TALL TUBE RED RETROSPOT   \n",
       "\n",
       "       ... item_33 item_34 item_35 item_36 item_37 item_38 item_39 item_40  \\\n",
       "1716   ...     NaN     NaN     NaN     NaN     NaN     NaN     NaN     NaN   \n",
       "23914  ...     NaN     NaN     NaN     NaN     NaN     NaN     NaN     NaN   \n",
       "1814   ...     NaN     NaN     NaN     NaN     NaN     NaN     NaN     NaN   \n",
       "20754  ...     NaN     NaN     NaN     NaN     NaN     NaN     NaN     NaN   \n",
       "23915  ...     NaN     NaN     NaN     NaN     NaN     NaN     NaN     NaN   \n",
       "\n",
       "      Hour Month  \n",
       "1716    11    12  \n",
       "23914    8    12  \n",
       "1814    15    12  \n",
       "20754   12    12  \n",
       "23915    8    12  \n",
       "\n",
       "[5 rows x 46 columns]"
      ]
     },
     "execution_count": 195,
     "metadata": {},
     "output_type": "execute_result"
    }
   ],
   "source": [
    "month_dec.head()"
   ]
  },
  {
   "cell_type": "code",
   "execution_count": 196,
   "id": "435d00e6",
   "metadata": {},
   "outputs": [],
   "source": [
    "items_df7=month_jul[month_jul.columns[3:44]]"
   ]
  },
  {
   "cell_type": "code",
   "execution_count": 197,
   "id": "45e80105",
   "metadata": {},
   "outputs": [],
   "source": [
    "items_df12=month_dec[month_dec.columns[3:44]]"
   ]
  },
  {
   "cell_type": "code",
   "execution_count": 198,
   "id": "7ca678fa",
   "metadata": {},
   "outputs": [],
   "source": [
    "baskets7 = items_df1.T.apply(lambda x: x.dropna().tolist()).tolist()"
   ]
  },
  {
   "cell_type": "code",
   "execution_count": 199,
   "id": "82249ed5",
   "metadata": {},
   "outputs": [],
   "source": [
    "baskets12 = items_df2.T.apply(lambda x: x.dropna().tolist()).tolist()"
   ]
  },
  {
   "cell_type": "code",
   "execution_count": 200,
   "id": "7b7beabb",
   "metadata": {},
   "outputs": [
    {
     "name": "stdout",
     "output_type": "stream",
     "text": [
      "1874\n"
     ]
    }
   ],
   "source": [
    "print(len(baskets7))"
   ]
  },
  {
   "cell_type": "code",
   "execution_count": 201,
   "id": "9ebfd283",
   "metadata": {},
   "outputs": [
    {
     "name": "stdout",
     "output_type": "stream",
     "text": [
      "1411\n"
     ]
    }
   ],
   "source": [
    "print(len(baskets12))"
   ]
  },
  {
   "cell_type": "code",
   "execution_count": 202,
   "id": "3cec8cea",
   "metadata": {},
   "outputs": [
    {
     "name": "stdout",
     "output_type": "stream",
     "text": [
      "[]\n",
      "['PICNIC BASKET WICKER LARGE', 'PICNIC BASKET WICKER SMALL', 'WOODEN ROUNDERS GARDEN SET', 'WOODEN CROQUET GARDEN SET', 'ASSORTED COLOUR BIRD ORNAMENT', 'PAINTED METAL PEARS ASSORTED', 'BAKING MOULD CHOCOLATE CUPCAKES', 'BAKING MOULD EASTER EGG MILK CHOC', 'DECORATION WHITE CHICK MAGIC GARDEN', 'HANGING CHICK CREAM DECORATION', 'FELT EGG COSY LADYBIRD', 'FELT EGG COSY WHITE RABBIT', 'SET 3 SONG BIRD PAPER EGGS ASSORTED', 'BLACK HEART CARD HOLDER', 'SET OF 2 TEA TOWELS APPLE AND PEARS', 'COFFEE MUG APPLES DESIGN', 'COFFEE MUG PEARS  DESIGN', 'SET OF 3 CAKE TINS PANTRY DESIGN', 'SET OF 3 HEART COOKIE CUTTERS', 'GINGERBREAD MAN COOKIE CUTTER', 'QUEENS GUARD COFFEE MUG', 'SOLDIERS EGG CUP', 'CHILDRENS DOLLY GIRL MUG', 'DOLLY GIRL CHILDRENS EGG CUP', 'BOX OF VINTAGE JIGSAW BLOCKS', 'BOX OF VINTAGE ALPHABET BLOCKS', 'MONEY BOX POCKET MONEY DESIGN', 'MONEY BOX KINGS CHOICE DESIGN']\n",
      "['SNOWSTORM PHOTO FRAME FRIDGE MAGNET', 'CAKE PLATE LOVEBIRD WHITE', 'BUNNY WOODEN PAINTED WITH BIRD', 'BUNNY WOODEN PAINTED WITH FLOWER', '5 HOOK HANGER RED MAGIC TOADSTOOL', '3 HOOK HANGER MAGIC GARDEN', 'EASTER DECORATION HANGING BUNNY', 'HEART IVORY TRELLIS LARGE', 'HEART IVORY TRELLIS SMALL', 'BLUE POLKADOT KIDS BAG', 'ROUND SNACK BOXES SET OF 4 FRUITS', 'PARTY PIZZA DISH RED RETROSPOT', 'PARTY PIZZA DISH BLUE POLKADOT', 'CHARLOTTE BAG PINK POLKADOT', 'LUNCH BAG SPACEBOY DESIGN', 'REGENCY CAKESTAND 3 TIER', 'NATURAL SLATE HEART CHALKBOARD', 'GUMBALL COAT RACK', 'WATERING CAN GARDEN MARKER', 'BIRDHOUSE GARDEN MARKER', 'SET OF 2 WOODEN MARKET CRATES', 'PACK OF 12 TRADITIONAL CRAYONS', 'PACK OF 12 COLOURED PENCILS', 'WOODEN UNION JACK BUNTING', 'PICNIC BASKET WICKER SMALL', 'MAGIC DRAWING SLATE BUNNIES', 'PLASTERS IN TIN WOODLAND ANIMALS', 'CLOTHES PEGS RETROSPOT PACK 24', 'TRADITIONAL MODELLING CLAY', 'LUNCH BAG PINK POLKADOT', 'LUNCH BAG RED RETROSPOT', 'SILVER HEARTS TABLE DECORATION', 'SMALL DOLLY MIX DESIGN ORANGE BOWL', 'LUNCH BAG APPLE DESIGN', 'LUNCH BAG DOILEY PATTERN']\n",
      "['VINTAGE HEADS AND TAILS CARD GAME', 'VINTAGE SNAKES & LADDERS', 'PAPER BUNTING WHITE LACE', 'SET OF 3 HEART COOKIE CUTTERS', 'SET/10 RED POLKADOT PARTY CANDLES', 'SET OF 72 PINK HEART PAPER DOILIES']\n",
      "['LUNCH BAG PINK POLKADOT', 'LUNCH BAG DOLLY GIRL DESIGN', 'LUNCH BAG RED RETROSPOT', 'LUNCH BAG SUKI  DESIGN', 'PACK OF 20 NAPKINS PANTRY DESIGN', 'WHITE HANGING HEART T-LIGHT HOLDER', 'COFFEE MUG APPLES DESIGN', 'COFFEE MUG PEARS  DESIGN', 'BAKING MOULD HEART MILK CHOCOLATE', 'BAKING MOULD CHOCOLATE CUPCAKES', 'BAKING MOULD HEART WHITE CHOCOLATE', 'NATURAL SLATE HEART CHALKBOARD', 'NATURAL SLATE RECTANGLE CHALKBOARD', 'HERB MARKER THYME', 'HERB MARKER PARSLEY', 'HERB MARKER BASIL', 'HERB MARKER ROSEMARY', 'HERB MARKER CHIVES', 'HERB MARKER MINT', 'ASSORTED BOTTLE TOP  MAGNETS', 'FRIDGE MAGNETS US DINER ASSORTED', 'HOT WATER BOTTLE I AM SO POORLY', 'CHOCOLATE HOT WATER BOTTLE']\n"
     ]
    }
   ],
   "source": [
    "for i in baskets7[:5]:\n",
    "    print(i)"
   ]
  },
  {
   "cell_type": "code",
   "execution_count": 203,
   "id": "1598c33d",
   "metadata": {},
   "outputs": [
    {
     "name": "stdout",
     "output_type": "stream",
     "text": [
      "['OFFICE MUG WARMER BLACK+SILVER']\n",
      "['CARRIAGE', 'JAM MAKING SET PRINTED', 'TABLECLOTH RED APPLES DESIGN', 'SET 6 SCHOOL MILK BOTTLES IN CRATE', 'HOT WATER BOTTLE TEA AND SYMPATHY', 'SET OF 3 CAKE TINS PANTRY DESIGN', 'RECIPE BOX PANTRY YELLOW DESIGN']\n",
      "['HOME SWEET HOME MUG', '3 HOOK HANGER MAGIC GARDEN', 'JIGSAW TREE WITH WATERING CAN', 'WOODEN FRAME ANTIQUE WHITE']\n",
      "['BLUE HARMONICA IN BOX', 'SET 12 RETRO WHITE CHALK STICKS', 'SET 12 KIDS COLOUR  CHALK STICKS', 'PACK OF 12 COLOURED PENCILS', 'PACK OF 12 TRADITIONAL CRAYONS', 'MONSTERS STENCIL CRAFT', 'ALPHABET STENCIL CRAFT', 'HAPPY STENCIL CRAFT', 'BAG 500g SWIRLY MARBLES', 'PINK CREAM FELT CRAFT TRINKET BOX', 'FELTCRAFT DOLL ROSIE', 'FUNKY DIVA PEN', 'PLASTERS IN TIN WOODLAND ANIMALS', 'PLASTERS IN TIN SKULLS', 'PLACE SETTING WHITE HEART', 'SWEETHEART 3 TIER CAKE STAND', 'CHILDRENS CUTLERY POLKADOT PINK', 'CHILDRENS CUTLERY RETROSPOT RED', 'SET 40 HEART SHAPE PETIT FOUR CASES', 'BUNDLE OF 3 RETRO NOTE BOOKS', 'LARGE CERAMIC TOP STORAGE JAR', 'MEDIUM CERAMIC TOP STORAGE JAR', 'JAM MAKING SET PRINTED']\n",
      "['CHRISTMAS GINGHAM STAR', 'SET OF 3 WOODEN SLEIGH DECORATIONS', 'STAR T-LIGHT HOLDER WILLIE WINKIE', 'JINGLE BELL HEART ANTIQUE SILVER', 'CHRISTMAS TREE HANGING SILVER', '12 PENCILS TALL TUBE SKULLS', '12 PENCILS TALL TUBE RED RETROSPOT', 'BAG 125g SWIRLY MARBLES', 'BUBBLEGUM RING ASSORTED', 'ICE CREAM BUBBLES', 'SET 12 COLOUR PENCILS SPACEBOY', 'SET 12 COLOUR PENCILS DOLLY GIRL', 'SET OF 20 VINTAGE CHRISTMAS NAPKINS']\n"
     ]
    }
   ],
   "source": [
    "for i in baskets12[:5]:\n",
    "    print(i)"
   ]
  },
  {
   "cell_type": "code",
   "execution_count": 204,
   "id": "84f02529",
   "metadata": {},
   "outputs": [],
   "source": [
    "association_rules7 = apriori(baskets7, min_support=0.01, min_confidence=0.2, \n",
    "                            min_lift=3, min_length=2)\n",
    "association_results7 = list(association_rules7)"
   ]
  },
  {
   "cell_type": "code",
   "execution_count": 205,
   "id": "e19438e5",
   "metadata": {},
   "outputs": [],
   "source": [
    "association_rules12 = apriori(baskets12, min_support=0.01, min_confidence=0.2, \n",
    "                            min_lift=3, min_length=2)\n",
    "association_results12 = list(association_rules12)"
   ]
  },
  {
   "cell_type": "code",
   "execution_count": 206,
   "id": "5787ab23",
   "metadata": {},
   "outputs": [
    {
     "name": "stdout",
     "output_type": "stream",
     "text": [
      "Rules generated:  79\n"
     ]
    }
   ],
   "source": [
    "print('Rules generated: ', len(association_results7))"
   ]
  },
  {
   "cell_type": "code",
   "execution_count": 207,
   "id": "35c3ab4a",
   "metadata": {},
   "outputs": [
    {
     "name": "stdout",
     "output_type": "stream",
     "text": [
      "Rules generated:  124\n"
     ]
    }
   ],
   "source": [
    "print('Rules generated: ', len(association_results12))"
   ]
  },
  {
   "cell_type": "code",
   "execution_count": 208,
   "id": "a20e883c",
   "metadata": {},
   "outputs": [
    {
     "name": "stdout",
     "output_type": "stream",
     "text": [
      "RelationRecord(items=frozenset({'ALARM CLOCK BAKELIKE CHOCOLATE', 'ALARM CLOCK BAKELIKE PINK'}), support=0.010138740661686232, ordered_statistics=[OrderedStatistic(items_base=frozenset({'ALARM CLOCK BAKELIKE CHOCOLATE'}), items_add=frozenset({'ALARM CLOCK BAKELIKE PINK'}), confidence=0.7916666666666666, lift=32.2518115942029), OrderedStatistic(items_base=frozenset({'ALARM CLOCK BAKELIKE PINK'}), items_add=frozenset({'ALARM CLOCK BAKELIKE CHOCOLATE'}), confidence=0.41304347826086957, lift=32.2518115942029)])\n"
     ]
    }
   ],
   "source": [
    "print(association_results7[0])"
   ]
  },
  {
   "cell_type": "code",
   "execution_count": 209,
   "id": "fd8004eb",
   "metadata": {},
   "outputs": [
    {
     "name": "stdout",
     "output_type": "stream",
     "text": [
      "RelationRecord(items=frozenset({'60 CAKE CASES VINTAGE CHRISTMAS', 'SET OF 20 VINTAGE CHRISTMAS NAPKINS'}), support=0.010630758327427357, ordered_statistics=[OrderedStatistic(items_base=frozenset({'60 CAKE CASES VINTAGE CHRISTMAS'}), items_add=frozenset({'SET OF 20 VINTAGE CHRISTMAS NAPKINS'}), confidence=0.576923076923077, lift=18.500874125874127), OrderedStatistic(items_base=frozenset({'SET OF 20 VINTAGE CHRISTMAS NAPKINS'}), items_add=frozenset({'60 CAKE CASES VINTAGE CHRISTMAS'}), confidence=0.34090909090909094, lift=18.500874125874127)])\n"
     ]
    }
   ],
   "source": [
    "print(association_results12[0])"
   ]
  },
  {
   "cell_type": "code",
   "execution_count": 210,
   "id": "9e1fc49a",
   "metadata": {},
   "outputs": [],
   "source": [
    "def display_rules(association_results7):\n",
    "    for item in association_results7:\n",
    "        pair = item[0] \n",
    "        items = [x for x in pair]\n",
    "        print(\"Rule: \" + items[0] + \" -> \" + items[1])\n",
    "        print(\"Support: \" + str(item[1]))\n",
    "        print(\"Confidence: \" + str(item[2][0][2]))\n",
    "        print(\"Lift: \" + str(item[2][0][3]))\n",
    "        print(\"=====================================\")"
   ]
  },
  {
   "cell_type": "code",
   "execution_count": 211,
   "id": "4b1ef7a8",
   "metadata": {},
   "outputs": [],
   "source": [
    "def display_rules(association_results12):\n",
    "    for item in association_results12:\n",
    "        pair = item[0] \n",
    "        items = [x for x in pair]\n",
    "        print(\"Rule: \" + items[0] + \" -> \" + items[1])\n",
    "        print(\"Support: \" + str(item[1]))\n",
    "        print(\"Confidence: \" + str(item[2][0][2]))\n",
    "        print(\"Lift: \" + str(item[2][0][3]))\n",
    "        print(\"=====================================\")"
   ]
  },
  {
   "cell_type": "code",
   "execution_count": 212,
   "id": "4f121236",
   "metadata": {},
   "outputs": [
    {
     "name": "stdout",
     "output_type": "stream",
     "text": [
      "Rule: ALARM CLOCK BAKELIKE CHOCOLATE -> ALARM CLOCK BAKELIKE PINK\n",
      "Support: 0.010138740661686232\n",
      "Confidence: 0.7916666666666666\n",
      "Lift: 32.2518115942029\n",
      "=====================================\n",
      "Rule: ALARM CLOCK BAKELIKE IVORY -> ALARM CLOCK BAKELIKE GREEN\n",
      "Support: 0.011739594450373533\n",
      "Confidence: 0.3793103448275862\n",
      "Lift: 20.906693711967545\n",
      "=====================================\n",
      "Rule: ALARM CLOCK BAKELIKE GREEN -> ALARM CLOCK BAKELIKE PINK\n",
      "Support: 0.013340448239060833\n",
      "Confidence: 0.4310344827586207\n",
      "Lift: 17.559970014992505\n",
      "=====================================\n",
      "Rule: ALARM CLOCK BAKELIKE GREEN -> ALARM CLOCK BAKELIKE RED\n",
      "Support: 0.018676627534685165\n",
      "Confidence: 0.603448275862069\n",
      "Lift: 19.167153711279955\n",
      "=====================================\n",
      "Rule: ALARM CLOCK BAKELIKE RED -> ALARM CLOCK BAKELIKE PINK\n",
      "Support: 0.012806830309498399\n",
      "Confidence: 0.5217391304347826\n",
      "Lift: 16.571849668386147\n",
      "=====================================\n",
      "Rule: PINK 3 PIECE POLKADOT CUTLERY SET -> BLUE 3 PIECE POLKADOT CUTLERY SET\n",
      "Support: 0.0144076840981857\n",
      "Confidence: 0.75\n",
      "Lift: 41.33823529411765\n",
      "=====================================\n",
      "Rule: CANDLEHOLDER PINK HANGING HEART -> RED HANGING HEART T-LIGHT HOLDER\n",
      "Support: 0.016542155816435433\n",
      "Confidence: 0.484375\n",
      "Lift: 11.069740853658535\n",
      "=====================================\n",
      "Rule: CANDLEHOLDER PINK HANGING HEART -> WHITE HANGING HEART T-LIGHT HOLDER\n",
      "Support: 0.019743863393810034\n",
      "Confidence: 0.578125\n",
      "Lift: 6.155717329545454\n",
      "=====================================\n",
      "Rule: CHOCOLATE HOT WATER BOTTLE -> SCOTTIE DOG HOT WATER BOTTLE\n",
      "Support: 0.010138740661686232\n",
      "Confidence: 0.5428571428571428\n",
      "Lift: 17.242615012106537\n",
      "=====================================\n",
      "Rule: COOK WITH WINE METAL SIGN -> GIN + TONIC DIET METAL SIGN\n",
      "Support: 0.011205976520811099\n",
      "Confidence: 0.4117647058823529\n",
      "Lift: 15.747899159663865\n",
      "=====================================\n"
     ]
    }
   ],
   "source": [
    "display_rules(association_results7[:10])"
   ]
  },
  {
   "cell_type": "code",
   "execution_count": 213,
   "id": "d6607a66",
   "metadata": {},
   "outputs": [
    {
     "name": "stdout",
     "output_type": "stream",
     "text": [
      "Rule: 60 CAKE CASES VINTAGE CHRISTMAS -> SET OF 20 VINTAGE CHRISTMAS NAPKINS\n",
      "Support: 0.010630758327427357\n",
      "Confidence: 0.576923076923077\n",
      "Lift: 18.500874125874127\n",
      "=====================================\n",
      "Rule: 60 TEATIME FAIRY CAKE CASES -> PACK OF 60 PINK PAISLEY CAKE CASES\n",
      "Support: 0.012756909992912827\n",
      "Confidence: 0.4\n",
      "Lift: 12.542222222222223\n",
      "=====================================\n",
      "Rule: 60 TEATIME FAIRY CAKE CASES -> PACK OF 72 RETROSPOT CAKE CASES\n",
      "Support: 0.012048192771084338\n",
      "Confidence: 0.3777777777777778\n",
      "Lift: 9.691717171717173\n",
      "=====================================\n",
      "Rule: ALARM CLOCK BAKELIKE GREEN -> ALARM CLOCK BAKELIKE PINK\n",
      "Support: 0.012048192771084338\n",
      "Confidence: 0.3695652173913044\n",
      "Lift: 14.093419506462986\n",
      "=====================================\n",
      "Rule: ALARM CLOCK BAKELIKE GREEN -> ALARM CLOCK BAKELIKE RED\n",
      "Support: 0.01771793054571226\n",
      "Confidence: 0.5434782608695652\n",
      "Lift: 17.83367037411527\n",
      "=====================================\n",
      "Rule: ALARM CLOCK BAKELIKE IVORY -> ALARM CLOCK BAKELIKE PINK\n",
      "Support: 0.011339475549255847\n",
      "Confidence: 0.5333333333333333\n",
      "Lift: 20.33873873873874\n",
      "=====================================\n",
      "Rule: WHITE HANGING HEART T-LIGHT HOLDER -> ANTIQUE SILVER TEA GLASS ETCHED\n",
      "Support: 0.011339475549255847\n",
      "Confidence: 0.3902439024390244\n",
      "Lift: 4.746846089150547\n",
      "=====================================\n",
      "Rule: WHITE HANGING HEART T-LIGHT HOLDER -> ASSORTED COLOUR BIRD ORNAMENT\n",
      "Support: 0.013465627214741318\n",
      "Confidence: 0.37254901960784315\n",
      "Lift: 4.531609195402299\n",
      "=====================================\n",
      "Rule: KNITTED UNION FLAG HOT WATER BOTTLE -> CHARLIE+LOLA PINK HOT WATER BOTTLE\n",
      "Support: 0.010630758327427357\n",
      "Confidence: 0.576923076923077\n",
      "Lift: 21.42206477732794\n",
      "=====================================\n",
      "Rule: CHARLOTTE BAG DOLLY GIRL DESIGN -> CHARLOTTE BAG PINK POLKADOT\n",
      "Support: 0.010630758327427357\n",
      "Confidence: 0.7142857142857143\n",
      "Lift: 24.581881533101047\n",
      "=====================================\n"
     ]
    }
   ],
   "source": [
    "display_rules(association_results12[:10])"
   ]
  },
  {
   "cell_type": "code",
   "execution_count": 214,
   "id": "72bdfc3a",
   "metadata": {},
   "outputs": [
    {
     "data": {
      "text/plain": [
       "[('WHITE HANGING HEART T-LIGHT HOLDER', 180),\n",
       " ('REGENCY CAKESTAND 3 TIER', 151),\n",
       " ('JUMBO BAG RED RETROSPOT', 118),\n",
       " ('SET OF 3 CAKE TINS PANTRY DESIGN', 114),\n",
       " ('HEART OF WICKER SMALL', 108),\n",
       " ('NATURAL SLATE HEART CHALKBOARD', 103),\n",
       " ('JAM MAKING SET WITH JARS', 99),\n",
       " ('LUNCH BAG RED RETROSPOT', 92),\n",
       " ('SET OF 3 HEART COOKIE CUTTERS', 88),\n",
       " ('HEART OF WICKER LARGE', 84)]"
      ]
     },
     "execution_count": 214,
     "metadata": {},
     "output_type": "execute_result"
    }
   ],
   "source": [
    "from collections import Counter\n",
    " \n",
    "counter = Counter(baskets7[0])\n",
    "for i in baskets1[1:]:\n",
    "    if i != 'nan':\n",
    "        counter.update(i)\n",
    " \n",
    "del counter['nan']\n",
    "counter.most_common(10)"
   ]
  },
  {
   "cell_type": "code",
   "execution_count": 215,
   "id": "fb27eb6a",
   "metadata": {
    "scrolled": true
   },
   "outputs": [
    {
     "data": {
      "text/plain": [
       "[('WHITE HANGING HEART T-LIGHT HOLDER', 120),\n",
       " ('REGENCY CAKESTAND 3 TIER', 99),\n",
       " ('SET OF 3 CAKE TINS PANTRY DESIGN', 81),\n",
       " ('HEART OF WICKER SMALL', 75),\n",
       " ('JAM MAKING SET PRINTED', 69),\n",
       " ('HAND WARMER BABUSHKA DESIGN', 69),\n",
       " ('CHOCOLATE HOT WATER BOTTLE', 69),\n",
       " ('JUMBO BAG RED RETROSPOT', 68),\n",
       " ('JAM MAKING SET WITH JARS', 67),\n",
       " ('NATURAL SLATE HEART CHALKBOARD', 65)]"
      ]
     },
     "execution_count": 215,
     "metadata": {},
     "output_type": "execute_result"
    }
   ],
   "source": [
    "from collections import Counter\n",
    " \n",
    "counter = Counter(baskets12[0])\n",
    "for i in baskets2[1:]:\n",
    "    if i != 'nan':\n",
    "        counter.update(i)\n",
    " \n",
    "del counter['nan']\n",
    "counter.most_common(10)"
   ]
  },
  {
   "cell_type": "markdown",
   "id": "40661f55",
   "metadata": {},
   "source": [
    "### Report"
   ]
  },
  {
   "cell_type": "markdown",
   "id": "3da76ad8",
   "metadata": {},
   "source": [
    "The above analysis indicates the following:\n",
    "\n",
    "September,October and November were the months with the highest sales.\n",
    "\n",
    "December and February had the least sales. Perhaps because February has less number of days, and in December, customers exhaust their funds in buying christmas gifts, so less sales were recorded in the shop.  \n",
    "\n",
    "January,March,April,May,June,July and August had a fair amount of sales.\n",
    "\n",
    "Whereas from the contents of the baskets, more picnic items were purchased in July because of summer holiday. While in December, the basket had more winter related items like mug warmer,hot water bottles, celebrations items and school items for kids. September and November had more items in the basket, whilst Febraury and December had the least items in the basket, which corresponds with the low sales seen for those months. \n",
    "\n",
    "Comparing association rules for July and December shows that, though December had fewer sales, items were frequently bought together, hence the higher the number of rules generated. For eample - ALARM CLOCK BAKELIKE GREEN -> ALARM CLOCK BAKELIKE RED and ALARM CLOCK BAKELIKE GREEN -> ALARM CLOCK BAKELIKE RED were purchased all purchased in July and December, indicating these are popular products during that time of the year. Increase in sales of this products can be acheived by running promotions on the products in other months apart from July and December.\n",
    "\n",
    "The rules generated for all months are generally good, but using the visualization method to remove redundant/repetitive rules is strongly advised.\n"
   ]
  },
  {
   "cell_type": "code",
   "execution_count": null,
   "id": "bb4cda21",
   "metadata": {},
   "outputs": [],
   "source": []
  }
 ],
 "metadata": {
  "kernelspec": {
   "display_name": "Python 3 (ipykernel)",
   "language": "python",
   "name": "python3"
  },
  "language_info": {
   "codemirror_mode": {
    "name": "ipython",
    "version": 3
   },
   "file_extension": ".py",
   "mimetype": "text/x-python",
   "name": "python",
   "nbconvert_exporter": "python",
   "pygments_lexer": "ipython3",
   "version": "3.9.12"
  }
 },
 "nbformat": 4,
 "nbformat_minor": 5
}
